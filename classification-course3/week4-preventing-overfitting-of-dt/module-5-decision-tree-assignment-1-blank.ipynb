{
 "cells": [
  {
   "cell_type": "markdown",
   "metadata": {},
   "source": [
    "# Identifying safe loans with decision trees"
   ]
  },
  {
   "cell_type": "markdown",
   "metadata": {},
   "source": [
    "The [LendingClub](https://www.lendingclub.com/) is a peer-to-peer leading company that directly connects borrowers and potential lenders/investors. In this notebook, you will build a classification model to predict whether or not a loan provided by LendingClub is likely to [default](https://en.wikipedia.org/wiki/Default_%28finance%29).\n",
    "\n",
    "In this notebook you will use data from the LendingClub to predict whether a loan will be paid off in full or the loan will be [charged off](https://en.wikipedia.org/wiki/Charge-off) and possibly go into default. In this assignment you will:\n",
    "\n",
    "* Use SFrames to do some feature engineering.\n",
    "* Train a decision-tree on the LendingClub dataset.\n",
    "* Visualize the tree.\n",
    "* Predict whether a loan will default along with prediction probabilities (on a validation set).\n",
    "* Train a complex tree model and compare it to simple tree model.\n",
    "\n",
    "Let's get started!"
   ]
  },
  {
   "cell_type": "markdown",
   "metadata": {},
   "source": [
    "## Fire up GraphLab Create"
   ]
  },
  {
   "cell_type": "markdown",
   "metadata": {},
   "source": [
    "Make sure you have the latest version of GraphLab Create. If you don't find the decision tree module, then you would need to upgrade GraphLab Create using\n",
    "\n",
    "```\n",
    "   pip install graphlab-create --upgrade\n",
    "```"
   ]
  },
  {
   "cell_type": "code",
   "execution_count": 1,
   "metadata": {
    "collapsed": false
   },
   "outputs": [],
   "source": [
    "import graphlab\n",
    "graphlab.canvas.set_target('ipynb')"
   ]
  },
  {
   "cell_type": "markdown",
   "metadata": {},
   "source": [
    "# Load LendingClub dataset"
   ]
  },
  {
   "cell_type": "markdown",
   "metadata": {},
   "source": [
    "We will be using a dataset from the [LendingClub](https://www.lendingclub.com/). A parsed and cleaned form of the dataset is availiable [here](https://github.com/learnml/machine-learning-specialization-private). Make sure you **download the dataset** before running the following command."
   ]
  },
  {
   "cell_type": "code",
   "execution_count": 2,
   "metadata": {
    "collapsed": false
   },
   "outputs": [
    {
     "name": "stdout",
     "output_type": "stream",
     "text": [
      "This non-commercial license of GraphLab Create for academic use is assigned to snayak3071@gmail.com and will expire on September 03, 2017.\n"
     ]
    },
    {
     "name": "stderr",
     "output_type": "stream",
     "text": [
      "[INFO] graphlab.cython.cy_server: GraphLab Create v2.1 started. Logging: /tmp/graphlab_server_1481521959.log\n"
     ]
    }
   ],
   "source": [
    "loans = graphlab.SFrame('lending-club-data.gl/')"
   ]
  },
  {
   "cell_type": "markdown",
   "metadata": {},
   "source": [
    "## Exploring some features\n",
    "\n",
    "Let's quickly explore what the dataset looks like. First, let's print out the column names to see what features we have in this dataset."
   ]
  },
  {
   "cell_type": "code",
   "execution_count": 3,
   "metadata": {
    "collapsed": false
   },
   "outputs": [
    {
     "data": {
      "text/plain": [
       "['id',\n",
       " 'member_id',\n",
       " 'loan_amnt',\n",
       " 'funded_amnt',\n",
       " 'funded_amnt_inv',\n",
       " 'term',\n",
       " 'int_rate',\n",
       " 'installment',\n",
       " 'grade',\n",
       " 'sub_grade',\n",
       " 'emp_title',\n",
       " 'emp_length',\n",
       " 'home_ownership',\n",
       " 'annual_inc',\n",
       " 'is_inc_v',\n",
       " 'issue_d',\n",
       " 'loan_status',\n",
       " 'pymnt_plan',\n",
       " 'url',\n",
       " 'desc',\n",
       " 'purpose',\n",
       " 'title',\n",
       " 'zip_code',\n",
       " 'addr_state',\n",
       " 'dti',\n",
       " 'delinq_2yrs',\n",
       " 'earliest_cr_line',\n",
       " 'inq_last_6mths',\n",
       " 'mths_since_last_delinq',\n",
       " 'mths_since_last_record',\n",
       " 'open_acc',\n",
       " 'pub_rec',\n",
       " 'revol_bal',\n",
       " 'revol_util',\n",
       " 'total_acc',\n",
       " 'initial_list_status',\n",
       " 'out_prncp',\n",
       " 'out_prncp_inv',\n",
       " 'total_pymnt',\n",
       " 'total_pymnt_inv',\n",
       " 'total_rec_prncp',\n",
       " 'total_rec_int',\n",
       " 'total_rec_late_fee',\n",
       " 'recoveries',\n",
       " 'collection_recovery_fee',\n",
       " 'last_pymnt_d',\n",
       " 'last_pymnt_amnt',\n",
       " 'next_pymnt_d',\n",
       " 'last_credit_pull_d',\n",
       " 'collections_12_mths_ex_med',\n",
       " 'mths_since_last_major_derog',\n",
       " 'policy_code',\n",
       " 'not_compliant',\n",
       " 'status',\n",
       " 'inactive_loans',\n",
       " 'bad_loans',\n",
       " 'emp_length_num',\n",
       " 'grade_num',\n",
       " 'sub_grade_num',\n",
       " 'delinq_2yrs_zero',\n",
       " 'pub_rec_zero',\n",
       " 'collections_12_mths_zero',\n",
       " 'short_emp',\n",
       " 'payment_inc_ratio',\n",
       " 'final_d',\n",
       " 'last_delinq_none',\n",
       " 'last_record_none',\n",
       " 'last_major_derog_none']"
      ]
     },
     "execution_count": 3,
     "metadata": {},
     "output_type": "execute_result"
    }
   ],
   "source": [
    "loans.column_names()"
   ]
  },
  {
   "cell_type": "markdown",
   "metadata": {},
   "source": [
    "Here, we see that we have some feature columns that have to do with grade of the loan, annual income, home ownership status, etc. Let's take a look at the distribution of loan grades in the dataset."
   ]
  },
  {
   "cell_type": "code",
   "execution_count": 7,
   "metadata": {
    "collapsed": false
   },
   "outputs": [
    {
     "data": {
      "application/javascript": [
       "$(\"head\").append($(\"<link/>\").attr({\n",
       "  rel:  \"stylesheet\",\n",
       "  type: \"text/css\",\n",
       "  href: \"//cdnjs.cloudflare.com/ajax/libs/font-awesome/4.1.0/css/font-awesome.min.css\"\n",
       "}));\n",
       "$(\"head\").append($(\"<link/>\").attr({\n",
       "  rel:  \"stylesheet\",\n",
       "  type: \"text/css\",\n",
       "  href: \"https://static.turi.com/products/graphlab-create/2.1/canvas/css/canvas.css\"\n",
       "}));\n",
       "\n",
       "            (function(){\n",
       "\n",
       "                var e = null;\n",
       "                if (typeof element == 'undefined') {\n",
       "                    var scripts = document.getElementsByTagName('script');\n",
       "                    var thisScriptTag = scripts[scripts.length-1];\n",
       "                    var parentDiv = thisScriptTag.parentNode;\n",
       "                    e = document.createElement('div');\n",
       "                    parentDiv.appendChild(e);\n",
       "                } else {\n",
       "                    e = element[0];\n",
       "                }\n",
       "\n",
       "                if (typeof requirejs !== 'undefined') {\n",
       "                    // disable load timeout; ipython_app.js is large and can take a while to load.\n",
       "                    requirejs.config({waitSeconds: 0});\n",
       "                }\n",
       "\n",
       "                require(['https://static.turi.com/products/graphlab-create/2.1/canvas/js/ipython_app.js'], function(IPythonApp){\n",
       "                    var app = new IPythonApp();\n",
       "                    app.attachView('sarray','Numeric', {\"ipython\": true, \"sketch\": {\"std\": 4.390817722764334, \"complete\": true, \"min\": 5.42, \"max\": 26.06, \"quantile\": [5.42, 5.99, 6.03, 6.03, 6.62, 6.62, 6.99, 7.49, 7.51, 7.62, 7.68, 7.9, 7.9, 7.9, 8.32, 8.9, 8.9, 8.9, 9.17, 9.63, 9.71, 9.91, 10.08, 10.16, 10.36, 10.62, 10.65, 10.91, 10.99, 11.03, 11.14, 11.14, 11.41, 11.55, 11.71, 11.89, 11.99, 12.12, 12.12, 12.12, 12.21, 12.42, 12.53, 12.69, 12.99, 12.99, 13.11, 13.11, 13.11, 13.22, 13.48, 13.53, 13.67, 13.72, 13.98, 13.99, 14.09, 14.16, 14.3, 14.33, 14.33, 14.49, 14.65, 14.84, 15.05, 15.22, 15.31, 15.31, 15.58, 15.61, 15.8, 15.8, 15.96, 16.2, 16.29, 16.29, 16.49, 16.78, 17.1, 17.27, 17.39, 17.57, 17.77, 17.78, 18.25, 18.49, 18.55, 18.75, 19.03, 19.2, 19.52, 19.72, 20.2, 20.5, 21.0, 21.6, 22.2, 22.95, 23.63, 24.5, 26.06], \"median\": 13.48, \"numeric\": true, \"num_unique\": 503, \"num_undefined\": 0, \"var\": 19.279280274541374, \"progress\": 1.0, \"size\": 122607, \"frequent_items\": {\"18.25\": {\"frequency\": 1283, \"value\": 18.25}, \"20.25\": {\"frequency\": 52, \"value\": 20.25}, \"22.74\": {\"frequency\": 21, \"value\": 22.74}, \"6.0\": {\"frequency\": 27, \"value\": 6.0}, \"8.0\": {\"frequency\": 198, \"value\": 8.0}, \"10.0\": {\"frequency\": 227, \"value\": 10.0}, \"16.0\": {\"frequency\": 126, \"value\": 16.0}, \"17.15\": {\"frequency\": 4, \"value\": 17.15}, \"21.0\": {\"frequency\": 714, \"value\": 21.0}, \"24.89\": {\"frequency\": 137, \"value\": 24.89}, \"17.22\": {\"frequency\": 8, \"value\": 17.22}, \"17.44\": {\"frequency\": 1, \"value\": 17.44}, \"17.14\": {\"frequency\": 95, \"value\": 17.14}, \"19.79\": {\"frequency\": 21, \"value\": 19.79}, \"10.62\": {\"frequency\": 237, \"value\": 10.62}, \"9.38\": {\"frequency\": 23, \"value\": 9.38}, \"8.32\": {\"frequency\": 49, \"value\": 8.32}, \"23.43\": {\"frequency\": 142, \"value\": 23.43}, \"16.02\": {\"frequency\": 106, \"value\": 16.02}, \"10.14\": {\"frequency\": 11, \"value\": 10.14}, \"15.96\": {\"frequency\": 248, \"value\": 15.96}, \"8.38\": {\"frequency\": 26, \"value\": 8.38}, \"8.39\": {\"frequency\": 229, \"value\": 8.39}, \"22.94\": {\"frequency\": 1, \"value\": 22.94}, \"20.69\": {\"frequency\": 3, \"value\": 20.69}, \"17.41\": {\"frequency\": 1, \"value\": 17.41}, \"15.58\": {\"frequency\": 169, \"value\": 15.58}, \"18.78\": {\"frequency\": 7, \"value\": 18.78}, \"16.35\": {\"frequency\": 49, \"value\": 16.35}, \"11.72\": {\"frequency\": 12, \"value\": 11.72}, \"7.12\": {\"frequency\": 127, \"value\": 7.12}, \"20.9\": {\"frequency\": 16, \"value\": 20.9}, \"12.87\": {\"frequency\": 205, \"value\": 12.87}, \"10.08\": {\"frequency\": 55, \"value\": 10.08}, \"21.18\": {\"frequency\": 135, \"value\": 21.18}, \"6.97\": {\"frequency\": 91, \"value\": 6.97}, \"13.75\": {\"frequency\": 24, \"value\": 13.75}, \"15.61\": {\"frequency\": 1476, \"value\": 15.61}, \"20.48\": {\"frequency\": 15, \"value\": 20.48}, \"8.94\": {\"frequency\": 299, \"value\": 8.94}, \"9.62\": {\"frequency\": 161, \"value\": 9.62}, \"10.25\": {\"frequency\": 228, \"value\": 10.25}, \"23.7\": {\"frequency\": 148, \"value\": 23.7}, \"8.07\": {\"frequency\": 26, \"value\": 8.07}, \"7.4\": {\"frequency\": 72, \"value\": 7.4}, \"9.63\": {\"frequency\": 376, \"value\": 9.63}, \"7.68\": {\"frequency\": 94, \"value\": 7.68}, \"21.74\": {\"frequency\": 24, \"value\": 21.74}, \"21.14\": {\"frequency\": 6, \"value\": 21.14}, \"22.78\": {\"frequency\": 42, \"value\": 22.78}, \"13.85\": {\"frequency\": 152, \"value\": 13.85}, \"19.42\": {\"frequency\": 101, \"value\": 19.42}, \"10.91\": {\"frequency\": 31, \"value\": 10.91}, \"14.57\": {\"frequency\": 3, \"value\": 14.57}, \"5.42\": {\"frequency\": 573, \"value\": 5.42}, \"17.66\": {\"frequency\": 8, \"value\": 17.66}, \"7.49\": {\"frequency\": 664, \"value\": 7.49}, \"10.75\": {\"frequency\": 235, \"value\": 10.75}, \"20.3\": {\"frequency\": 85, \"value\": 20.3}, \"11.11\": {\"frequency\": 281, \"value\": 11.11}, \"19.66\": {\"frequency\": 9, \"value\": 19.66}, \"16.83\": {\"frequency\": 1, \"value\": 16.83}, \"12.73\": {\"frequency\": 201, \"value\": 12.73}, \"19.29\": {\"frequency\": 86, \"value\": 19.29}, \"23.22\": {\"frequency\": 7, \"value\": 23.22}, \"22.2\": {\"frequency\": 175, \"value\": 22.2}, \"9.71\": {\"frequency\": 473, \"value\": 9.71}, \"16.63\": {\"frequency\": 23, \"value\": 16.63}, \"16.15\": {\"frequency\": 5, \"value\": 16.15}, \"7.69\": {\"frequency\": 206, \"value\": 7.69}, \"10.38\": {\"frequency\": 213, \"value\": 10.38}, \"6.17\": {\"frequency\": 236, \"value\": 6.17}, \"9.07\": {\"frequency\": 15, \"value\": 9.07}, \"16.77\": {\"frequency\": 359, \"value\": 16.77}, \"13.47\": {\"frequency\": 146, \"value\": 13.47}, \"19.69\": {\"frequency\": 72, \"value\": 19.69}, \"13.24\": {\"frequency\": 56, \"value\": 13.24}, \"10.59\": {\"frequency\": 361, \"value\": 10.59}, \"9.25\": {\"frequency\": 260, \"value\": 9.25}, \"12.22\": {\"frequency\": 16, \"value\": 12.22}, \"22.45\": {\"frequency\": 138, \"value\": 22.45}, \"9.45\": {\"frequency\": 47, \"value\": 9.45}, \"17.09\": {\"frequency\": 2, \"value\": 17.09}, \"20.52\": {\"frequency\": 4, \"value\": 20.52}, \"16.45\": {\"frequency\": 161, \"value\": 16.45}, \"15.21\": {\"frequency\": 194, \"value\": 15.21}, \"10.95\": {\"frequency\": 82, \"value\": 10.95}, \"17.43\": {\"frequency\": 26, \"value\": 17.43}, \"11.58\": {\"frequency\": 107, \"value\": 11.58}, \"23.4\": {\"frequency\": 199, \"value\": 23.4}, \"17.77\": {\"frequency\": 1465, \"value\": 17.77}, \"15.27\": {\"frequency\": 259, \"value\": 15.27}, \"16.33\": {\"frequency\": 2, \"value\": 16.33}, \"8.7\": {\"frequency\": 17, \"value\": 8.7}, \"19.97\": {\"frequency\": 148, \"value\": 19.97}, \"11.91\": {\"frequency\": 16, \"value\": 11.91}, \"16.01\": {\"frequency\": 6, \"value\": 16.01}, \"13.23\": {\"frequency\": 231, \"value\": 13.23}, \"11.09\": {\"frequency\": 8, \"value\": 11.09}, \"24.2\": {\"frequency\": 21, \"value\": 24.2}, \"10.71\": {\"frequency\": 58, \"value\": 10.71}, \"12.72\": {\"frequency\": 18, \"value\": 12.72}, \"20.17\": {\"frequency\": 6, \"value\": 20.17}, \"15.45\": {\"frequency\": 24, \"value\": 15.45}, \"6.91\": {\"frequency\": 287, \"value\": 6.91}, \"12.92\": {\"frequency\": 44, \"value\": 12.92}, \"15.05\": {\"frequency\": 76, \"value\": 15.05}, \"19.41\": {\"frequency\": 31, \"value\": 19.41}, \"18.04\": {\"frequency\": 6, \"value\": 18.04}, \"12.61\": {\"frequency\": 201, \"value\": 12.61}, \"12.23\": {\"frequency\": 125, \"value\": 12.23}, \"14.82\": {\"frequency\": 42, \"value\": 14.82}, \"6.62\": {\"frequency\": 2013, \"value\": 6.62}, \"17.78\": {\"frequency\": 1, \"value\": 17.78}, \"11.59\": {\"frequency\": 12, \"value\": 11.59}, \"18.09\": {\"frequency\": 11, \"value\": 18.09}, \"13.22\": {\"frequency\": 159, \"value\": 13.22}, \"10.33\": {\"frequency\": 9, \"value\": 10.33}, \"17.03\": {\"frequency\": 8, \"value\": 17.03}, \"13.43\": {\"frequency\": 132, \"value\": 13.43}, \"12.12\": {\"frequency\": 3872, \"value\": 12.12}, \"20.89\": {\"frequency\": 70, \"value\": 20.89}, \"21.82\": {\"frequency\": 1, \"value\": 21.82}, \"24.11\": {\"frequency\": 8, \"value\": 24.11}, \"12.09\": {\"frequency\": 20, \"value\": 12.09}, \"11.71\": {\"frequency\": 843, \"value\": 11.71}, \"13.72\": {\"frequency\": 108, \"value\": 13.72}, \"20.49\": {\"frequency\": 584, \"value\": 20.49}, \"17.04\": {\"frequency\": 32, \"value\": 17.04}, \"11.54\": {\"frequency\": 21, \"value\": 11.54}, \"13.49\": {\"frequency\": 857, \"value\": 13.49}, \"16.32\": {\"frequency\": 194, \"value\": 16.32}, \"17.39\": {\"frequency\": 22, \"value\": 17.39}, \"16.96\": {\"frequency\": 4, \"value\": 16.96}, \"17.59\": {\"frequency\": 2, \"value\": 17.59}, \"11.28\": {\"frequency\": 19, \"value\": 11.28}, \"17.88\": {\"frequency\": 43, \"value\": 17.88}, \"15.31\": {\"frequency\": 2756, \"value\": 15.31}, \"23.1\": {\"frequency\": 115, \"value\": 23.1}, \"15.65\": {\"frequency\": 193, \"value\": 15.65}, \"14.22\": {\"frequency\": 132, \"value\": 14.22}, \"17.86\": {\"frequency\": 28, \"value\": 17.86}, \"21.49\": {\"frequency\": 496, \"value\": 21.49}, \"19.03\": {\"frequency\": 115, \"value\": 19.03}, \"12.42\": {\"frequency\": 616, \"value\": 12.42}, \"13.12\": {\"frequency\": 23, \"value\": 13.12}, \"21.15\": {\"frequency\": 214, \"value\": 21.15}, \"21.27\": {\"frequency\": 10, \"value\": 21.27}, \"18.79\": {\"frequency\": 80, \"value\": 18.79}, \"23.13\": {\"frequency\": 44, \"value\": 23.13}, \"14.5\": {\"frequency\": 41, \"value\": 14.5}, \"12.62\": {\"frequency\": 3, \"value\": 12.62}, \"7.37\": {\"frequency\": 32, \"value\": 7.37}, \"14.93\": {\"frequency\": 8, \"value\": 14.93}, \"13.62\": {\"frequency\": 9, \"value\": 13.62}, \"19.39\": {\"frequency\": 3, \"value\": 19.39}, \"14.25\": {\"frequency\": 10, \"value\": 14.25}, \"13.93\": {\"frequency\": 10, \"value\": 13.93}, \"14.61\": {\"frequency\": 114, \"value\": 14.61}, \"7.9\": {\"frequency\": 3423, \"value\": 7.9}, \"23.83\": {\"frequency\": 149, \"value\": 23.83}, \"13.35\": {\"frequency\": 507, \"value\": 13.35}, \"24.4\": {\"frequency\": 1, \"value\": 24.4}, \"15.1\": {\"frequency\": 439, \"value\": 15.1}, \"14.42\": {\"frequency\": 106, \"value\": 14.42}, \"18.99\": {\"frequency\": 214, \"value\": 18.99}, \"18.39\": {\"frequency\": 110, \"value\": 18.39}, \"14.74\": {\"frequency\": 84, \"value\": 14.74}, \"23.63\": {\"frequency\": 226, \"value\": 23.63}, \"18.92\": {\"frequency\": 209, \"value\": 18.92}, \"18.67\": {\"frequency\": 35, \"value\": 18.67}, \"13.04\": {\"frequency\": 23, \"value\": 13.04}, \"10.36\": {\"frequency\": 229, \"value\": 10.36}, \"13.06\": {\"frequency\": 184, \"value\": 13.06}, \"17.27\": {\"frequency\": 2048, \"value\": 17.27}, \"12.68\": {\"frequency\": 199, \"value\": 12.68}, \"8.88\": {\"frequency\": 152, \"value\": 8.88}, \"7.42\": {\"frequency\": 7, \"value\": 7.42}, \"14.75\": {\"frequency\": 9, \"value\": 14.75}, \"22.35\": {\"frequency\": 25, \"value\": 22.35}, \"17.19\": {\"frequency\": 107, \"value\": 17.19}, \"17.72\": {\"frequency\": 1, \"value\": 17.72}, \"14.28\": {\"frequency\": 1, \"value\": 14.28}, \"9.49\": {\"frequency\": 18, \"value\": 9.49}, \"15.95\": {\"frequency\": 195, \"value\": 15.95}, \"14.09\": {\"frequency\": 1821, \"value\": 14.09}, \"9.88\": {\"frequency\": 186, \"value\": 9.88}, \"13.92\": {\"frequency\": 142, \"value\": 13.92}, \"14.62\": {\"frequency\": 4, \"value\": 14.62}, \"11.41\": {\"frequency\": 17, \"value\": 11.41}, \"24.83\": {\"frequency\": 48, \"value\": 24.83}, \"15.25\": {\"frequency\": 7, \"value\": 15.25}, \"15.38\": {\"frequency\": 6, \"value\": 15.38}, \"14.38\": {\"frequency\": 35, \"value\": 14.38}, \"15.23\": {\"frequency\": 179, \"value\": 15.23}, \"16.4\": {\"frequency\": 122, \"value\": 16.4}, \"14.31\": {\"frequency\": 26, \"value\": 14.31}, \"14.91\": {\"frequency\": 133, \"value\": 14.91}, \"11.12\": {\"frequency\": 241, \"value\": 11.12}, \"14.59\": {\"frequency\": 131, \"value\": 14.59}, \"22.06\": {\"frequency\": 27, \"value\": 22.06}, \"8.63\": {\"frequency\": 44, \"value\": 8.63}, \"16.7\": {\"frequency\": 43, \"value\": 16.7}, \"7.51\": {\"frequency\": 957, \"value\": 7.51}, \"17.34\": {\"frequency\": 13, \"value\": 17.34}, \"21.98\": {\"frequency\": 440, \"value\": 21.98}, \"17.74\": {\"frequency\": 25, \"value\": 17.74}, \"18.43\": {\"frequency\": 21, \"value\": 18.43}, \"17.58\": {\"frequency\": 212, \"value\": 17.58}, \"14.88\": {\"frequency\": 7, \"value\": 14.88}, \"10.28\": {\"frequency\": 32, \"value\": 10.28}, \"7.66\": {\"frequency\": 278, \"value\": 7.66}, \"21.22\": {\"frequency\": 7, \"value\": 21.22}, \"20.86\": {\"frequency\": 6, \"value\": 20.86}, \"17.26\": {\"frequency\": 17, \"value\": 17.26}, \"20.2\": {\"frequency\": 392, \"value\": 20.2}, \"18.62\": {\"frequency\": 38, \"value\": 18.62}, \"11.89\": {\"frequency\": 165, \"value\": 11.89}, \"19.04\": {\"frequency\": 38, \"value\": 19.04}, \"15.62\": {\"frequency\": 171, \"value\": 15.62}, \"21.36\": {\"frequency\": 28, \"value\": 21.36}, \"5.79\": {\"frequency\": 404, \"value\": 5.79}, \"24.5\": {\"frequency\": 308, \"value\": 24.5}, \"12.39\": {\"frequency\": 37, \"value\": 12.39}, \"14.07\": {\"frequency\": 18, \"value\": 14.07}, \"18.61\": {\"frequency\": 16, \"value\": 18.61}, \"15.76\": {\"frequency\": 16, \"value\": 15.76}, \"18.55\": {\"frequency\": 495, \"value\": 18.55}, \"7.29\": {\"frequency\": 380, \"value\": 7.29}, \"15.59\": {\"frequency\": 21, \"value\": 15.59}, \"10.99\": {\"frequency\": 2277, \"value\": 10.99}, \"19.74\": {\"frequency\": 20, \"value\": 19.74}, \"17.28\": {\"frequency\": 2, \"value\": 17.28}, \"7.75\": {\"frequency\": 27, \"value\": 7.75}, \"16.65\": {\"frequency\": 4, \"value\": 16.65}, \"9.76\": {\"frequency\": 518, \"value\": 9.76}, \"13.61\": {\"frequency\": 263, \"value\": 13.61}, \"15.57\": {\"frequency\": 65, \"value\": 15.57}, \"16.29\": {\"frequency\": 2529, \"value\": 16.29}, \"13.87\": {\"frequency\": 40, \"value\": 13.87}, \"13.57\": {\"frequency\": 153, \"value\": 13.57}, \"10.39\": {\"frequency\": 57, \"value\": 10.39}, \"17.57\": {\"frequency\": 814, \"value\": 17.57}, \"12.21\": {\"frequency\": 183, \"value\": 12.21}, \"18.21\": {\"frequency\": 9, \"value\": 18.21}, \"8.49\": {\"frequency\": 423, \"value\": 8.49}, \"15.07\": {\"frequency\": 9, \"value\": 15.07}, \"12.69\": {\"frequency\": 651, \"value\": 12.69}, \"15.28\": {\"frequency\": 107, \"value\": 15.28}, \"17.51\": {\"frequency\": 45, \"value\": 17.51}, \"15.22\": {\"frequency\": 493, \"value\": 15.22}, \"9.51\": {\"frequency\": 10, \"value\": 9.51}, \"11.83\": {\"frequency\": 243, \"value\": 11.83}, \"22.85\": {\"frequency\": 6, \"value\": 22.85}, \"10.15\": {\"frequency\": 310, \"value\": 10.15}, \"11.97\": {\"frequency\": 51, \"value\": 11.97}, \"9.33\": {\"frequency\": 24, \"value\": 9.33}, \"12.41\": {\"frequency\": 22, \"value\": 12.41}, \"10.46\": {\"frequency\": 12, \"value\": 10.46}, \"9.01\": {\"frequency\": 17, \"value\": 9.01}, \"9.91\": {\"frequency\": 552, \"value\": 9.91}, \"10.74\": {\"frequency\": 747, \"value\": 10.74}, \"16.49\": {\"frequency\": 212, \"value\": 16.49}, \"17.99\": {\"frequency\": 385, \"value\": 17.99}, \"11.44\": {\"frequency\": 16, \"value\": 11.44}, \"17.76\": {\"frequency\": 390, \"value\": 17.76}, \"9.83\": {\"frequency\": 11, \"value\": 9.83}, \"23.5\": {\"frequency\": 116, \"value\": 23.5}, \"7.05\": {\"frequency\": 23, \"value\": 7.05}, \"22.4\": {\"frequency\": 211, \"value\": 22.4}, \"13.05\": {\"frequency\": 318, \"value\": 13.05}, \"9.17\": {\"frequency\": 231, \"value\": 9.17}, \"16.24\": {\"frequency\": 301, \"value\": 16.24}, \"18.64\": {\"frequency\": 153, \"value\": 18.64}, \"24.08\": {\"frequency\": 346, \"value\": 24.08}, \"16.28\": {\"frequency\": 10, \"value\": 16.28}, \"11.26\": {\"frequency\": 95, \"value\": 11.26}, \"9.7\": {\"frequency\": 9, \"value\": 9.7}, \"16.07\": {\"frequency\": 74, \"value\": 16.07}, \"7.74\": {\"frequency\": 154, \"value\": 7.74}, \"14.11\": {\"frequency\": 113, \"value\": 14.11}, \"10.16\": {\"frequency\": 1680, \"value\": 10.16}, \"23.52\": {\"frequency\": 6, \"value\": 23.52}, \"10.01\": {\"frequency\": 8, \"value\": 10.01}, \"19.16\": {\"frequency\": 5, \"value\": 19.16}, \"21.28\": {\"frequency\": 53, \"value\": 21.28}, \"16.95\": {\"frequency\": 24, \"value\": 16.95}, \"9.99\": {\"frequency\": 832, \"value\": 9.99}, \"21.7\": {\"frequency\": 173, \"value\": 21.7}, \"23.26\": {\"frequency\": 28, \"value\": 23.26}, \"14.27\": {\"frequency\": 514, \"value\": 14.27}, \"10.37\": {\"frequency\": 396, \"value\": 10.37}, \"17.97\": {\"frequency\": 6, \"value\": 17.97}, \"13.79\": {\"frequency\": 125, \"value\": 13.79}, \"16.91\": {\"frequency\": 5, \"value\": 16.91}, \"11.36\": {\"frequency\": 256, \"value\": 11.36}, \"16.46\": {\"frequency\": 3, \"value\": 16.46}, \"18.3\": {\"frequency\": 58, \"value\": 18.3}, \"10.51\": {\"frequency\": 22, \"value\": 10.51}, \"15.88\": {\"frequency\": 552, \"value\": 15.88}, \"10.49\": {\"frequency\": 13, \"value\": 10.49}, \"19.52\": {\"frequency\": 727, \"value\": 19.52}, \"22.7\": {\"frequency\": 117, \"value\": 22.7}, \"9.96\": {\"frequency\": 30, \"value\": 9.96}, \"16.99\": {\"frequency\": 526, \"value\": 16.99}, \"21.64\": {\"frequency\": 11, \"value\": 21.64}, \"12.18\": {\"frequency\": 216, \"value\": 12.18}, \"9.64\": {\"frequency\": 29, \"value\": 9.64}, \"17.91\": {\"frequency\": 2, \"value\": 17.91}, \"22.48\": {\"frequency\": 12, \"value\": 22.48}, \"11.86\": {\"frequency\": 359, \"value\": 11.86}, \"12.84\": {\"frequency\": 152, \"value\": 12.84}, \"11.48\": {\"frequency\": 193, \"value\": 11.48}, \"20.31\": {\"frequency\": 260, \"value\": 20.31}, \"17.46\": {\"frequency\": 1, \"value\": 17.46}, \"22.95\": {\"frequency\": 306, \"value\": 22.95}, \"9.2\": {\"frequency\": 15, \"value\": 9.2}, \"16.59\": {\"frequency\": 300, \"value\": 16.59}, \"23.28\": {\"frequency\": 281, \"value\": 23.28}, \"8.6\": {\"frequency\": 79, \"value\": 8.6}, \"22.64\": {\"frequency\": 1, \"value\": 22.64}, \"25.83\": {\"frequency\": 88, \"value\": 25.83}, \"11.22\": {\"frequency\": 33, \"value\": 11.22}, \"13.84\": {\"frequency\": 2, \"value\": 13.84}, \"19.47\": {\"frequency\": 203, \"value\": 19.47}, \"10.2\": {\"frequency\": 18, \"value\": 10.2}, \"11.66\": {\"frequency\": 50, \"value\": 11.66}, \"22.11\": {\"frequency\": 22, \"value\": 22.11}, \"13.98\": {\"frequency\": 1010, \"value\": 13.98}, \"14.72\": {\"frequency\": 125, \"value\": 14.72}, \"21.67\": {\"frequency\": 45, \"value\": 21.67}, \"12.36\": {\"frequency\": 11, \"value\": 12.36}, \"11.46\": {\"frequency\": 27, \"value\": 11.46}, \"12.04\": {\"frequency\": 11, \"value\": 12.04}, \"13.8\": {\"frequency\": 117, \"value\": 13.8}, \"18.75\": {\"frequency\": 982, \"value\": 18.75}, \"11.49\": {\"frequency\": 706, \"value\": 11.49}, \"11.34\": {\"frequency\": 56, \"value\": 11.34}, \"24.7\": {\"frequency\": 94, \"value\": 24.7}, \"10.96\": {\"frequency\": 15, \"value\": 10.96}, \"6.54\": {\"frequency\": 290, \"value\": 6.54}, \"18.85\": {\"frequency\": 282, \"value\": 18.85}, \"7.91\": {\"frequency\": 14, \"value\": 7.91}, \"22.15\": {\"frequency\": 128, \"value\": 22.15}, \"10.64\": {\"frequency\": 569, \"value\": 10.64}, \"9.32\": {\"frequency\": 187, \"value\": 9.32}, \"19.91\": {\"frequency\": 97, \"value\": 19.91}, \"12.86\": {\"frequency\": 11, \"value\": 12.86}, \"17.93\": {\"frequency\": 78, \"value\": 17.93}, \"13.55\": {\"frequency\": 50, \"value\": 13.55}, \"12.54\": {\"frequency\": 9, \"value\": 12.54}, \"25.28\": {\"frequency\": 74, \"value\": 25.28}, \"11.99\": {\"frequency\": 1722, \"value\": 11.99}, \"18.91\": {\"frequency\": 10, \"value\": 18.91}, \"19.99\": {\"frequency\": 283, \"value\": 19.99}, \"22.9\": {\"frequency\": 78, \"value\": 22.9}, \"22.47\": {\"frequency\": 341, \"value\": 22.47}, \"13.68\": {\"frequency\": 481, \"value\": 13.68}, \"11.14\": {\"frequency\": 2646, \"value\": 11.14}, \"21.21\": {\"frequency\": 7, \"value\": 21.21}, \"16.89\": {\"frequency\": 159, \"value\": 16.89}, \"13.36\": {\"frequency\": 12, \"value\": 13.36}, \"12.98\": {\"frequency\": 103, \"value\": 12.98}, \"7.14\": {\"frequency\": 337, \"value\": 7.14}, \"23.76\": {\"frequency\": 186, \"value\": 23.76}, \"18.54\": {\"frequency\": 33, \"value\": 18.54}, \"23.33\": {\"frequency\": 24, \"value\": 23.33}, \"7.62\": {\"frequency\": 1845, \"value\": 7.62}, \"10.83\": {\"frequency\": 31, \"value\": 10.83}, \"8.19\": {\"frequency\": 27, \"value\": 8.19}, \"6.03\": {\"frequency\": 2292, \"value\": 6.03}, \"12.49\": {\"frequency\": 703, \"value\": 12.49}, \"20.99\": {\"frequency\": 256, \"value\": 20.99}, \"18.53\": {\"frequency\": 7, \"value\": 18.53}, \"12.17\": {\"frequency\": 17, \"value\": 12.17}, \"7.43\": {\"frequency\": 33, \"value\": 7.43}, \"18.24\": {\"frequency\": 232, \"value\": 18.24}, \"12.8\": {\"frequency\": 25, \"value\": 12.8}, \"13.65\": {\"frequency\": 340, \"value\": 13.65}, \"17.1\": {\"frequency\": 426, \"value\": 17.1}, \"21.6\": {\"frequency\": 140, \"value\": 21.6}, \"13.48\": {\"frequency\": 175, \"value\": 13.48}, \"25.8\": {\"frequency\": 133, \"value\": 25.8}, \"13.16\": {\"frequency\": 143, \"value\": 13.16}, \"5.99\": {\"frequency\": 347, \"value\": 5.99}, \"12.99\": {\"frequency\": 1806, \"value\": 12.99}, \"24.52\": {\"frequency\": 3, \"value\": 24.52}, \"18.29\": {\"frequency\": 13, \"value\": 18.29}, \"14.26\": {\"frequency\": 138, \"value\": 14.26}, \"14.47\": {\"frequency\": 363, \"value\": 14.47}, \"21.99\": {\"frequency\": 94, \"value\": 21.99}, \"13.3\": {\"frequency\": 17, \"value\": 13.3}, \"11.78\": {\"frequency\": 28, \"value\": 11.78}, \"15.13\": {\"frequency\": 22, \"value\": 15.13}, \"17.49\": {\"frequency\": 142, \"value\": 17.49}, \"9.67\": {\"frequency\": 719, \"value\": 9.67}, \"13.66\": {\"frequency\": 35, \"value\": 13.66}, \"21.97\": {\"frequency\": 78, \"value\": 21.97}, \"11.67\": {\"frequency\": 353, \"value\": 11.67}, \"21.59\": {\"frequency\": 5, \"value\": 21.59}, \"11.03\": {\"frequency\": 64, \"value\": 11.03}, \"22.99\": {\"frequency\": 9, \"value\": 22.99}, \"12.35\": {\"frequency\": 711, \"value\": 12.35}, \"13.17\": {\"frequency\": 11, \"value\": 13.17}, \"12.67\": {\"frequency\": 5, \"value\": 12.67}, \"18.49\": {\"frequency\": 1230, \"value\": 18.49}, \"25.89\": {\"frequency\": 63, \"value\": 25.89}, \"15.99\": {\"frequency\": 239, \"value\": 15.99}, \"19.13\": {\"frequency\": 17, \"value\": 19.13}, \"14.65\": {\"frequency\": 826, \"value\": 14.65}, \"16.71\": {\"frequency\": 7, \"value\": 16.71}, \"23.91\": {\"frequency\": 9, \"value\": 23.91}, \"18.17\": {\"frequency\": 23, \"value\": 18.17}, \"12.85\": {\"frequency\": 360, \"value\": 12.85}, \"20.11\": {\"frequency\": 29, \"value\": 20.11}, \"11.55\": {\"frequency\": 609, \"value\": 11.55}, \"24.33\": {\"frequency\": 12, \"value\": 24.33}, \"14.33\": {\"frequency\": 2660, \"value\": 14.33}, \"6.39\": {\"frequency\": 58, \"value\": 6.39}, \"12.29\": {\"frequency\": 53, \"value\": 12.29}, \"12.53\": {\"frequency\": 356, \"value\": 12.53}, \"23.59\": {\"frequency\": 4, \"value\": 23.59}, \"14.54\": {\"frequency\": 75, \"value\": 14.54}, \"13.11\": {\"frequency\": 3570, \"value\": 13.11}, \"14.16\": {\"frequency\": 386, \"value\": 14.16}, \"20.77\": {\"frequency\": 9, \"value\": 20.77}, \"14.43\": {\"frequency\": 4, \"value\": 14.43}, \"11.63\": {\"frequency\": 8, \"value\": 11.63}, \"8.59\": {\"frequency\": 187, \"value\": 8.59}, \"6.49\": {\"frequency\": 132, \"value\": 6.49}, \"13.99\": {\"frequency\": 802, \"value\": 13.99}, \"16.69\": {\"frequency\": 49, \"value\": 16.69}, \"16.11\": {\"frequency\": 6, \"value\": 16.11}, \"23.99\": {\"frequency\": 3, \"value\": 23.99}, \"13.67\": {\"frequency\": 970, \"value\": 13.67}, \"15.68\": {\"frequency\": 50, \"value\": 15.68}, \"14.3\": {\"frequency\": 500, \"value\": 14.3}, \"18.86\": {\"frequency\": 3, \"value\": 18.86}, \"14.79\": {\"frequency\": 157, \"value\": 14.79}, \"20.4\": {\"frequency\": 4, \"value\": 20.4}, \"17.8\": {\"frequency\": 22, \"value\": 17.8}, \"14.98\": {\"frequency\": 332, \"value\": 14.98}, \"14.83\": {\"frequency\": 82, \"value\": 14.83}, \"26.06\": {\"frequency\": 48, \"value\": 26.06}, \"14.12\": {\"frequency\": 10, \"value\": 14.12}, \"10.65\": {\"frequency\": 609, \"value\": 10.65}, \"16.82\": {\"frequency\": 127, \"value\": 16.82}, \"14.49\": {\"frequency\": 386, \"value\": 14.49}, \"15.81\": {\"frequency\": 257, \"value\": 15.81}, \"24.99\": {\"frequency\": 165, \"value\": 24.99}, \"17.56\": {\"frequency\": 537, \"value\": 17.56}, \"20.62\": {\"frequency\": 34, \"value\": 20.62}, \"14.17\": {\"frequency\": 93, \"value\": 14.17}, \"18.07\": {\"frequency\": 7, \"value\": 18.07}, \"14.7\": {\"frequency\": 13, \"value\": 14.7}, \"19.05\": {\"frequency\": 1008, \"value\": 19.05}, \"19.22\": {\"frequency\": 364, \"value\": 19.22}, \"15.33\": {\"frequency\": 131, \"value\": 15.33}, \"25.57\": {\"frequency\": 121, \"value\": 25.57}, \"19.2\": {\"frequency\": 258, \"value\": 19.2}, \"8.67\": {\"frequency\": 26, \"value\": 8.67}, \"13.53\": {\"frequency\": 380, \"value\": 13.53}, \"18.84\": {\"frequency\": 6, \"value\": 18.84}, \"21.48\": {\"frequency\": 215, \"value\": 21.48}, \"15.01\": {\"frequency\": 17, \"value\": 15.01}, \"6.99\": {\"frequency\": 344, \"value\": 6.99}, \"14.99\": {\"frequency\": 399, \"value\": 14.99}, \"14.84\": {\"frequency\": 131, \"value\": 14.84}, \"14.46\": {\"frequency\": 97, \"value\": 14.46}, \"25.99\": {\"frequency\": 47, \"value\": 25.99}, \"16.08\": {\"frequency\": 15, \"value\": 16.08}, \"14.67\": {\"frequency\": 3, \"value\": 14.67}, \"17.06\": {\"frequency\": 21, \"value\": 17.06}, \"19.72\": {\"frequency\": 846, \"value\": 19.72}, \"15.37\": {\"frequency\": 52, \"value\": 15.37}, \"18.36\": {\"frequency\": 5, \"value\": 18.36}, \"24.76\": {\"frequency\": 5, \"value\": 24.76}, \"14.35\": {\"frequency\": 138, \"value\": 14.35}, \"15.2\": {\"frequency\": 73, \"value\": 15.2}, \"20.5\": {\"frequency\": 240, \"value\": 20.5}, \"16.2\": {\"frequency\": 454, \"value\": 16.2}, \"17.9\": {\"frequency\": 6, \"value\": 17.9}, \"15.83\": {\"frequency\": 7, \"value\": 15.83}, \"18.72\": {\"frequency\": 1, \"value\": 18.72}, \"15.51\": {\"frequency\": 5, \"value\": 15.51}, \"8.9\": {\"frequency\": 3337, \"value\": 8.9}, \"20.53\": {\"frequency\": 17, \"value\": 20.53}, \"14.96\": {\"frequency\": 247, \"value\": 14.96}, \"20.85\": {\"frequency\": 12, \"value\": 20.85}, \"20.03\": {\"frequency\": 12, \"value\": 20.03}, \"10.78\": {\"frequency\": 23, \"value\": 10.78}, \"15.8\": {\"frequency\": 1746, \"value\": 15.8}, \"14.64\": {\"frequency\": 359, \"value\": 14.64}, \"17.54\": {\"frequency\": 11, \"value\": 17.54}, \"19.24\": {\"frequency\": 12, \"value\": 19.24}, \"16.78\": {\"frequency\": 496, \"value\": 16.78}, \"20.8\": {\"frequency\": 119, \"value\": 20.8}, \"6.92\": {\"frequency\": 204, \"value\": 6.92}, \"15.7\": {\"frequency\": 95, \"value\": 15.7}, \"14.18\": {\"frequency\": 39, \"value\": 14.18}, \"20.16\": {\"frequency\": 15, \"value\": 20.16}, \"6.76\": {\"frequency\": 166, \"value\": 6.76}, \"19.36\": {\"frequency\": 24, \"value\": 19.36}, \"7.88\": {\"frequency\": 714, \"value\": 7.88}, \"19.82\": {\"frequency\": 8, \"value\": 19.82}}, \"mean\": 13.639486897159106}, \"selected_variable\": {\"name\": [\"<SArray>\"], \"dtype\": \"float\", \"view_component\": \"Numeric\", \"view_file\": \"sarray\", \"descriptives\": {\"rows\": 122607}, \"type\": \"SArray\", \"view_components\": [\"Numeric\", \"Categorical\"]}, \"histogram\": {\"progress\": 1.0, \"histogram\": {\"max\": 26.154719999999998, \"bins\": [7464, 10718, 12051, 18992, 18279, 18004, 12596, 11243, 5039, 4232, 2655, 1334], \"min\": 5.309279999999999}, \"min\": 5.42, \"complete\": 1, \"max\": 26.06}}, e);\n",
       "                });\n",
       "            })();\n",
       "        "
      ]
     },
     "metadata": {},
     "output_type": "display_data"
    }
   ],
   "source": [
    "loans['int_rate'].show()"
   ]
  },
  {
   "cell_type": "markdown",
   "metadata": {},
   "source": [
    "We can see that over half of the loan grades are assigned values `B` or `C`. Each loan is assigned one of these grades, along with a more finely discretized feature called `sub_grade` (feel free to explore that feature column as well!). These values depend on the loan application and credit report, and determine the interest rate of the loan. More information can be found [here](https://www.lendingclub.com/public/rates-and-fees.action).\n",
    "\n",
    "Now, let's look at a different feature."
   ]
  },
  {
   "cell_type": "code",
   "execution_count": 8,
   "metadata": {
    "collapsed": false
   },
   "outputs": [
    {
     "data": {
      "application/javascript": [
       "$(\"head\").append($(\"<link/>\").attr({\n",
       "  rel:  \"stylesheet\",\n",
       "  type: \"text/css\",\n",
       "  href: \"//cdnjs.cloudflare.com/ajax/libs/font-awesome/4.1.0/css/font-awesome.min.css\"\n",
       "}));\n",
       "$(\"head\").append($(\"<link/>\").attr({\n",
       "  rel:  \"stylesheet\",\n",
       "  type: \"text/css\",\n",
       "  href: \"https://static.turi.com/products/graphlab-create/2.1/canvas/css/canvas.css\"\n",
       "}));\n",
       "\n",
       "            (function(){\n",
       "\n",
       "                var e = null;\n",
       "                if (typeof element == 'undefined') {\n",
       "                    var scripts = document.getElementsByTagName('script');\n",
       "                    var thisScriptTag = scripts[scripts.length-1];\n",
       "                    var parentDiv = thisScriptTag.parentNode;\n",
       "                    e = document.createElement('div');\n",
       "                    parentDiv.appendChild(e);\n",
       "                } else {\n",
       "                    e = element[0];\n",
       "                }\n",
       "\n",
       "                if (typeof requirejs !== 'undefined') {\n",
       "                    // disable load timeout; ipython_app.js is large and can take a while to load.\n",
       "                    requirejs.config({waitSeconds: 0});\n",
       "                }\n",
       "\n",
       "                require(['https://static.turi.com/products/graphlab-create/2.1/canvas/js/ipython_app.js'], function(IPythonApp){\n",
       "                    var app = new IPythonApp();\n",
       "                    app.attachView('sarray','Categorical', {\"ipython\": true, \"sketch\": {\"complete\": true, \"numeric\": false, \"num_unique\": 4, \"num_undefined\": 0, \"progress\": 1.0, \"frequent_items\": {\"OWN\": {\"frequency\": 9943, \"value\": \"OWN\"}, \"OTHER\": {\"frequency\": 179, \"value\": \"OTHER\"}, \"RENT\": {\"frequency\": 53245, \"value\": \"RENT\"}, \"MORTGAGE\": {\"frequency\": 59240, \"value\": \"MORTGAGE\"}}, \"size\": 122607}, \"selected_variable\": {\"name\": [\"<SArray>\"], \"dtype\": \"str\", \"view_component\": \"Categorical\", \"view_file\": \"sarray\", \"descriptives\": {\"rows\": 122607}, \"type\": \"SArray\", \"view_components\": [\"Categorical\"]}, \"histogram\": null}, e);\n",
       "                });\n",
       "            })();\n",
       "        "
      ]
     },
     "metadata": {},
     "output_type": "display_data"
    }
   ],
   "source": [
    "loans['home_ownership'].show()"
   ]
  },
  {
   "cell_type": "markdown",
   "metadata": {},
   "source": [
    "This feature describes whether the loanee is mortaging, renting, or owns a home. We can see that a small percentage of the loanees own a home."
   ]
  },
  {
   "cell_type": "markdown",
   "metadata": {},
   "source": [
    "## Exploring the target column\n",
    "\n",
    "The target column (label column) of the dataset that we are interested in is called `bad_loans`. In this column **1** means a risky (bad) loan **0** means a safe  loan.\n",
    "\n",
    "In order to make this more intuitive and consistent with the lectures, we reassign the target to be:\n",
    "* **+1** as a safe  loan, \n",
    "* **-1** as a risky (bad) loan. \n",
    "\n",
    "We put this in a new column called `safe_loans`."
   ]
  },
  {
   "cell_type": "code",
   "execution_count": 9,
   "metadata": {
    "collapsed": false
   },
   "outputs": [],
   "source": [
    "# safe_loans =  1 => safe\n",
    "# safe_loans = -1 => risky\n",
    "loans['safe_loans'] = loans['bad_loans'].apply(lambda x : +1 if x==0 else -1)\n",
    "loans = loans.remove_column('bad_loans')"
   ]
  },
  {
   "cell_type": "markdown",
   "metadata": {},
   "source": [
    "Now, let us explore the distribution of the column `safe_loans`. This gives us a sense of how many safe and risky loans are present in the dataset."
   ]
  },
  {
   "cell_type": "code",
   "execution_count": 10,
   "metadata": {
    "collapsed": false
   },
   "outputs": [
    {
     "data": {
      "application/javascript": [
       "$(\"head\").append($(\"<link/>\").attr({\n",
       "  rel:  \"stylesheet\",\n",
       "  type: \"text/css\",\n",
       "  href: \"//cdnjs.cloudflare.com/ajax/libs/font-awesome/4.1.0/css/font-awesome.min.css\"\n",
       "}));\n",
       "$(\"head\").append($(\"<link/>\").attr({\n",
       "  rel:  \"stylesheet\",\n",
       "  type: \"text/css\",\n",
       "  href: \"https://static.turi.com/products/graphlab-create/2.1/canvas/css/canvas.css\"\n",
       "}));\n",
       "\n",
       "            (function(){\n",
       "\n",
       "                var e = null;\n",
       "                if (typeof element == 'undefined') {\n",
       "                    var scripts = document.getElementsByTagName('script');\n",
       "                    var thisScriptTag = scripts[scripts.length-1];\n",
       "                    var parentDiv = thisScriptTag.parentNode;\n",
       "                    e = document.createElement('div');\n",
       "                    parentDiv.appendChild(e);\n",
       "                } else {\n",
       "                    e = element[0];\n",
       "                }\n",
       "\n",
       "                if (typeof requirejs !== 'undefined') {\n",
       "                    // disable load timeout; ipython_app.js is large and can take a while to load.\n",
       "                    requirejs.config({waitSeconds: 0});\n",
       "                }\n",
       "\n",
       "                require(['https://static.turi.com/products/graphlab-create/2.1/canvas/js/ipython_app.js'], function(IPythonApp){\n",
       "                    var app = new IPythonApp();\n",
       "                    app.attachView('sarray','Categorical', {\"ipython\": true, \"sketch\": {\"std\": 0.7827226562473063, \"complete\": true, \"min\": -1.0, \"max\": 1.0, \"quantile\": [-1.0, -1.0, -1.0, -1.0, -1.0, -1.0, -1.0, -1.0, -1.0, -1.0, -1.0, -1.0, -1.0, -1.0, -1.0, -1.0, -1.0, -1.0, -1.0, 1.0, 1.0, 1.0, 1.0, 1.0, 1.0, 1.0, 1.0, 1.0, 1.0, 1.0, 1.0, 1.0, 1.0, 1.0, 1.0, 1.0, 1.0, 1.0, 1.0, 1.0, 1.0, 1.0, 1.0, 1.0, 1.0, 1.0, 1.0, 1.0, 1.0, 1.0, 1.0, 1.0, 1.0, 1.0, 1.0, 1.0, 1.0, 1.0, 1.0, 1.0, 1.0, 1.0, 1.0, 1.0, 1.0, 1.0, 1.0, 1.0, 1.0, 1.0, 1.0, 1.0, 1.0, 1.0, 1.0, 1.0, 1.0, 1.0, 1.0, 1.0, 1.0, 1.0, 1.0, 1.0, 1.0, 1.0, 1.0, 1.0, 1.0, 1.0, 1.0, 1.0, 1.0, 1.0, 1.0, 1.0, 1.0, 1.0, 1.0, 1.0, 1.0], \"median\": 1.0, \"numeric\": true, \"num_unique\": 2, \"num_undefined\": 0, \"var\": 0.6126547566028389, \"progress\": 1.0, \"size\": 122607, \"frequent_items\": {\"1\": {\"frequency\": 99457, \"value\": 1}, \"-1\": {\"frequency\": 23150, \"value\": -1}}, \"mean\": 0.6223706639914548}, \"selected_variable\": {\"name\": [\"<SArray>\"], \"dtype\": \"int\", \"view_component\": \"Categorical\", \"view_file\": \"sarray\", \"descriptives\": {\"rows\": 122607}, \"type\": \"SArray\", \"view_components\": [\"Numeric\", \"Categorical\"]}, \"histogram\": {\"progress\": 1.0, \"histogram\": {\"max\": 1.0, \"bins\": [23150, 0, 0, 0, 0, 0, 0, 0, 0, 0, 0, 99457], \"min\": -1.0}, \"min\": -1, \"complete\": 1, \"max\": 1}}, e);\n",
       "                });\n",
       "            })();\n",
       "        "
      ]
     },
     "metadata": {},
     "output_type": "display_data"
    }
   ],
   "source": [
    "loans['safe_loans'].show(view = 'Categorical')"
   ]
  },
  {
   "cell_type": "markdown",
   "metadata": {},
   "source": [
    "You should have:\n",
    "* Around 81% safe loans\n",
    "* Around 19% risky loans\n",
    "\n",
    "It looks like most of these loans are safe loans (thankfully). But this does make our problem of identifying risky loans challenging."
   ]
  },
  {
   "cell_type": "markdown",
   "metadata": {},
   "source": [
    "## Features for the classification algorithm"
   ]
  },
  {
   "cell_type": "markdown",
   "metadata": {},
   "source": [
    "In this assignment, we will be using a subset of features (categorical and numeric). The features we will be using are **described in the code comments** below. If you are a finance geek, the [LendingClub](https://www.lendingclub.com/) website has a lot more details about these features."
   ]
  },
  {
   "cell_type": "code",
   "execution_count": 11,
   "metadata": {
    "collapsed": false
   },
   "outputs": [],
   "source": [
    "features = ['grade',                     # grade of the loan\n",
    "            'sub_grade',                 # sub-grade of the loan\n",
    "            'short_emp',                 # one year or less of employment\n",
    "            'emp_length_num',            # number of years of employment\n",
    "            'home_ownership',            # home_ownership status: own, mortgage or rent\n",
    "            'dti',                       # debt to income ratio\n",
    "            'purpose',                   # the purpose of the loan\n",
    "            'term',                      # the term of the loan\n",
    "            'last_delinq_none',          # has borrower had a delinquincy\n",
    "            'last_major_derog_none',     # has borrower had 90 day or worse rating\n",
    "            'revol_util',                # percent of available credit being used\n",
    "            'total_rec_late_fee',        # total late fees received to day\n",
    "           ]\n",
    "\n",
    "target = 'safe_loans'                   # prediction target (y) (+1 means safe, -1 is risky)\n",
    "\n",
    "# Extract the feature columns and target column\n",
    "loans = loans[features + [target]]"
   ]
  },
  {
   "cell_type": "markdown",
   "metadata": {},
   "source": [
    "What remains now is a **subset of features** and the **target** that we will use for the rest of this notebook. "
   ]
  },
  {
   "cell_type": "markdown",
   "metadata": {},
   "source": [
    "## Sample data to balance classes\n",
    "\n",
    "As we explored above, our data is disproportionally full of safe loans.  Let's create two datasets: one with just the safe loans (`safe_loans_raw`) and one with just the risky loans (`risky_loans_raw`)."
   ]
  },
  {
   "cell_type": "code",
   "execution_count": 12,
   "metadata": {
    "collapsed": false
   },
   "outputs": [
    {
     "name": "stdout",
     "output_type": "stream",
     "text": [
      "Number of safe loans  : 99457\n",
      "Number of risky loans : 23150\n"
     ]
    }
   ],
   "source": [
    "safe_loans_raw = loans[loans[target] == +1]\n",
    "risky_loans_raw = loans[loans[target] == -1]\n",
    "print \"Number of safe loans  : %s\" % len(safe_loans_raw)\n",
    "print \"Number of risky loans : %s\" % len(risky_loans_raw)"
   ]
  },
  {
   "cell_type": "markdown",
   "metadata": {},
   "source": [
    "Now, write some code to compute below the percentage of safe and risky loans in the dataset and validate these numbers against what was given using `.show` earlier in the assignment:"
   ]
  },
  {
   "cell_type": "code",
   "execution_count": 14,
   "metadata": {
    "collapsed": false
   },
   "outputs": [
    {
     "name": "stdout",
     "output_type": "stream",
     "text": [
      "Percentage of safe loans  : 81.1185331996\n",
      "Percentage of risky loans : 18.8814668004\n"
     ]
    }
   ],
   "source": [
    "print \"Percentage of safe loans  :\", len(safe_loans_raw) * 100 / float(len(loans))\n",
    "print \"Percentage of risky loans :\", len(risky_loans_raw) * 100 / float(len(loans))"
   ]
  },
  {
   "cell_type": "markdown",
   "metadata": {},
   "source": [
    "One way to combat class imbalance is to undersample the larger class until the class distribution is approximately half and half. Here, we will undersample the larger class (safe loans) in order to balance out our dataset. This means we are throwing away many data points. We used `seed=1` so everyone gets the same results."
   ]
  },
  {
   "cell_type": "code",
   "execution_count": 15,
   "metadata": {
    "collapsed": false
   },
   "outputs": [],
   "source": [
    "# Since there are fewer risky loans than safe loans, find the ratio of the sizes\n",
    "# and use that percentage to undersample the safe loans.\n",
    "percentage = len(risky_loans_raw)/float(len(safe_loans_raw))\n",
    "\n",
    "risky_loans = risky_loans_raw\n",
    "safe_loans = safe_loans_raw.sample(percentage, seed=1)\n",
    "\n",
    "# Append the risky_loans with the downsampled version of safe_loans\n",
    "loans_data = risky_loans.append(safe_loans)"
   ]
  },
  {
   "cell_type": "markdown",
   "metadata": {},
   "source": [
    "Now, let's verify that the resulting percentage of safe and risky loans are each nearly 50%."
   ]
  },
  {
   "cell_type": "code",
   "execution_count": 16,
   "metadata": {
    "collapsed": false
   },
   "outputs": [
    {
     "name": "stdout",
     "output_type": "stream",
     "text": [
      "Percentage of safe loans                 : 0.502236174422\n",
      "Percentage of risky loans                : 0.497763825578\n",
      "Total number of loans in our new dataset : 46508\n"
     ]
    }
   ],
   "source": [
    "print \"Percentage of safe loans                 :\", len(safe_loans) / float(len(loans_data))\n",
    "print \"Percentage of risky loans                :\", len(risky_loans) / float(len(loans_data))\n",
    "print \"Total number of loans in our new dataset :\", len(loans_data)"
   ]
  },
  {
   "cell_type": "markdown",
   "metadata": {},
   "source": [
    "**Note:** There are many approaches for dealing with imbalanced data, including some where we modify the learning algorithm. These approaches are beyond the scope of this course, but some of them are reviewed in this [paper](http://ieeexplore.ieee.org/xpl/login.jsp?tp=&arnumber=5128907&url=http%3A%2F%2Fieeexplore.ieee.org%2Fiel5%2F69%2F5173046%2F05128907.pdf%3Farnumber%3D5128907 ). For this assignment, we use the simplest possible approach, where we subsample the overly represented class to get a more balanced dataset. In general, and especially when the data is highly imbalanced, we recommend using more advanced methods."
   ]
  },
  {
   "cell_type": "markdown",
   "metadata": {},
   "source": [
    "## Split data into training and validation sets"
   ]
  },
  {
   "cell_type": "markdown",
   "metadata": {},
   "source": [
    "We split the data into training and validation sets using an 80/20 split and specifying `seed=1` so everyone gets the same results.\n",
    "\n",
    "**Note**: In previous assignments, we have called this a **train-test split**. However, the portion of data that we don't train on will be used to help **select model parameters** (this is known as model selection). Thus, this portion of data should be called a **validation set**. Recall that examining performance of various potential models (i.e. models with different parameters) should be on validation set, while evaluation of the final selected model should always be on test data. Typically, we would also save a portion of the data (a real test set) to test our final model on or use cross-validation on the training set to select our final model. But for the learning purposes of this assignment, we won't do that."
   ]
  },
  {
   "cell_type": "code",
   "execution_count": 17,
   "metadata": {
    "collapsed": false
   },
   "outputs": [],
   "source": [
    "train_data, validation_data = loans_data.random_split(.8, seed=1)"
   ]
  },
  {
   "cell_type": "markdown",
   "metadata": {},
   "source": [
    "# Use decision tree to build a classifier"
   ]
  },
  {
   "cell_type": "markdown",
   "metadata": {},
   "source": [
    "Now, let's use the built-in GraphLab Create decision tree learner to create a loan prediction model on the training data. (In the next assignment, you will implement your own decision tree learning algorithm.)  Our feature columns and target column have already been decided above. Use `validation_set=None` to get the same results as everyone else."
   ]
  },
  {
   "cell_type": "code",
   "execution_count": 18,
   "metadata": {
    "collapsed": false
   },
   "outputs": [
    {
     "data": {
      "text/html": [
       "<pre>Decision tree classifier:</pre>"
      ],
      "text/plain": [
       "Decision tree classifier:"
      ]
     },
     "metadata": {},
     "output_type": "display_data"
    },
    {
     "data": {
      "text/html": [
       "<pre>--------------------------------------------------------</pre>"
      ],
      "text/plain": [
       "--------------------------------------------------------"
      ]
     },
     "metadata": {},
     "output_type": "display_data"
    },
    {
     "data": {
      "text/html": [
       "<pre>Number of examples          : 37224</pre>"
      ],
      "text/plain": [
       "Number of examples          : 37224"
      ]
     },
     "metadata": {},
     "output_type": "display_data"
    },
    {
     "data": {
      "text/html": [
       "<pre>Number of classes           : 2</pre>"
      ],
      "text/plain": [
       "Number of classes           : 2"
      ]
     },
     "metadata": {},
     "output_type": "display_data"
    },
    {
     "data": {
      "text/html": [
       "<pre>Number of feature columns   : 12</pre>"
      ],
      "text/plain": [
       "Number of feature columns   : 12"
      ]
     },
     "metadata": {},
     "output_type": "display_data"
    },
    {
     "data": {
      "text/html": [
       "<pre>Number of unpacked features : 12</pre>"
      ],
      "text/plain": [
       "Number of unpacked features : 12"
      ]
     },
     "metadata": {},
     "output_type": "display_data"
    },
    {
     "data": {
      "text/html": [
       "<pre>+-----------+--------------+-------------------+-------------------+</pre>"
      ],
      "text/plain": [
       "+-----------+--------------+-------------------+-------------------+"
      ]
     },
     "metadata": {},
     "output_type": "display_data"
    },
    {
     "data": {
      "text/html": [
       "<pre>| Iteration | Elapsed Time | Training-accuracy | Training-log_loss |</pre>"
      ],
      "text/plain": [
       "| Iteration | Elapsed Time | Training-accuracy | Training-log_loss |"
      ]
     },
     "metadata": {},
     "output_type": "display_data"
    },
    {
     "data": {
      "text/html": [
       "<pre>+-----------+--------------+-------------------+-------------------+</pre>"
      ],
      "text/plain": [
       "+-----------+--------------+-------------------+-------------------+"
      ]
     },
     "metadata": {},
     "output_type": "display_data"
    },
    {
     "data": {
      "text/html": [
       "<pre>| 1         | 0.066735     | 0.640581          | 0.663259          |</pre>"
      ],
      "text/plain": [
       "| 1         | 0.066735     | 0.640581          | 0.663259          |"
      ]
     },
     "metadata": {},
     "output_type": "display_data"
    },
    {
     "data": {
      "text/html": [
       "<pre>+-----------+--------------+-------------------+-------------------+</pre>"
      ],
      "text/plain": [
       "+-----------+--------------+-------------------+-------------------+"
      ]
     },
     "metadata": {},
     "output_type": "display_data"
    }
   ],
   "source": [
    "decision_tree_model = graphlab.decision_tree_classifier.create(train_data, validation_set=None,\n",
    "                                target = target, features = features)"
   ]
  },
  {
   "cell_type": "markdown",
   "metadata": {},
   "source": [
    "## Visualizing a learned model"
   ]
  },
  {
   "cell_type": "markdown",
   "metadata": {},
   "source": [
    "As noted in the [documentation](https://dato.com/products/create/docs/generated/graphlab.boosted_trees_classifier.create.html#graphlab.boosted_trees_classifier.create), typically the max depth of the tree is capped at 6. However, such a tree can be hard to visualize graphically.  Here, we instead learn a smaller model with **max depth of 2** to gain some intuition by visualizing the learned tree."
   ]
  },
  {
   "cell_type": "code",
   "execution_count": 19,
   "metadata": {
    "collapsed": false
   },
   "outputs": [
    {
     "data": {
      "text/html": [
       "<pre>Decision tree classifier:</pre>"
      ],
      "text/plain": [
       "Decision tree classifier:"
      ]
     },
     "metadata": {},
     "output_type": "display_data"
    },
    {
     "data": {
      "text/html": [
       "<pre>--------------------------------------------------------</pre>"
      ],
      "text/plain": [
       "--------------------------------------------------------"
      ]
     },
     "metadata": {},
     "output_type": "display_data"
    },
    {
     "data": {
      "text/html": [
       "<pre>Number of examples          : 37224</pre>"
      ],
      "text/plain": [
       "Number of examples          : 37224"
      ]
     },
     "metadata": {},
     "output_type": "display_data"
    },
    {
     "data": {
      "text/html": [
       "<pre>Number of classes           : 2</pre>"
      ],
      "text/plain": [
       "Number of classes           : 2"
      ]
     },
     "metadata": {},
     "output_type": "display_data"
    },
    {
     "data": {
      "text/html": [
       "<pre>Number of feature columns   : 12</pre>"
      ],
      "text/plain": [
       "Number of feature columns   : 12"
      ]
     },
     "metadata": {},
     "output_type": "display_data"
    },
    {
     "data": {
      "text/html": [
       "<pre>Number of unpacked features : 12</pre>"
      ],
      "text/plain": [
       "Number of unpacked features : 12"
      ]
     },
     "metadata": {},
     "output_type": "display_data"
    },
    {
     "data": {
      "text/html": [
       "<pre>+-----------+--------------+-------------------+-------------------+</pre>"
      ],
      "text/plain": [
       "+-----------+--------------+-------------------+-------------------+"
      ]
     },
     "metadata": {},
     "output_type": "display_data"
    },
    {
     "data": {
      "text/html": [
       "<pre>| Iteration | Elapsed Time | Training-accuracy | Training-log_loss |</pre>"
      ],
      "text/plain": [
       "| Iteration | Elapsed Time | Training-accuracy | Training-log_loss |"
      ]
     },
     "metadata": {},
     "output_type": "display_data"
    },
    {
     "data": {
      "text/html": [
       "<pre>+-----------+--------------+-------------------+-------------------+</pre>"
      ],
      "text/plain": [
       "+-----------+--------------+-------------------+-------------------+"
      ]
     },
     "metadata": {},
     "output_type": "display_data"
    },
    {
     "data": {
      "text/html": [
       "<pre>| 1         | 0.015573     | 0.613502          | 0.676098          |</pre>"
      ],
      "text/plain": [
       "| 1         | 0.015573     | 0.613502          | 0.676098          |"
      ]
     },
     "metadata": {},
     "output_type": "display_data"
    },
    {
     "data": {
      "text/html": [
       "<pre>+-----------+--------------+-------------------+-------------------+</pre>"
      ],
      "text/plain": [
       "+-----------+--------------+-------------------+-------------------+"
      ]
     },
     "metadata": {},
     "output_type": "display_data"
    }
   ],
   "source": [
    "small_model = graphlab.decision_tree_classifier.create(train_data, validation_set=None,\n",
    "                   target = target, features = features, max_depth = 2)"
   ]
  },
  {
   "cell_type": "markdown",
   "metadata": {},
   "source": [
    "In the view that is provided by GraphLab Create, you can see each node, and each split at each node. This visualization is great for considering what happens when this model predicts the target of a new data point. \n",
    "\n",
    "**Note:** To better understand this visual:\n",
    "* The root node is represented using pink. \n",
    "* Intermediate nodes are in green. \n",
    "* Leaf nodes in blue and orange. "
   ]
  },
  {
   "cell_type": "code",
   "execution_count": 21,
   "metadata": {
    "collapsed": false
   },
   "outputs": [
    {
     "data": {
      "application/javascript": [
       "$(\"head\").append($(\"<link/>\").attr({\n",
       "  rel:  \"stylesheet\",\n",
       "  type: \"text/css\",\n",
       "  href: \"//cdnjs.cloudflare.com/ajax/libs/font-awesome/4.1.0/css/font-awesome.min.css\"\n",
       "}));\n",
       "$(\"head\").append($(\"<link/>\").attr({\n",
       "  rel:  \"stylesheet\",\n",
       "  type: \"text/css\",\n",
       "  href: \"https://static.turi.com/products/graphlab-create/2.1/canvas/css/canvas.css\"\n",
       "}));\n",
       "\n",
       "            (function(){\n",
       "\n",
       "                var e = null;\n",
       "                if (typeof element == 'undefined') {\n",
       "                    var scripts = document.getElementsByTagName('script');\n",
       "                    var thisScriptTag = scripts[scripts.length-1];\n",
       "                    var parentDiv = thisScriptTag.parentNode;\n",
       "                    e = document.createElement('div');\n",
       "                    parentDiv.appendChild(e);\n",
       "                } else {\n",
       "                    e = element[0];\n",
       "                }\n",
       "\n",
       "                if (typeof requirejs !== 'undefined') {\n",
       "                    // disable load timeout; ipython_app.js is large and can take a while to load.\n",
       "                    requirejs.config({waitSeconds: 0});\n",
       "                }\n",
       "\n",
       "                require(['https://static.turi.com/products/graphlab-create/2.1/canvas/js/ipython_app.js'], function(IPythonApp){\n",
       "                    var app = new IPythonApp();\n",
       "                    app.attachView('sgraph','View', {\"edges_labels\": [\"yes\", \"no\", \"yes\", \"no\", \"no\", \"yes\"], \"selected_variable\": {\"name\": [\"<SGraph>\"], \"view_file\": \"sgraph\", \"view_component\": \"View\", \"view_params\": {\"elabel_hover\": false, \"vertex_positions\": null, \"h_offset\": 0.0, \"node_size\": 300, \"ecolor\": [0.37, 0.33, 0.33], \"elabel\": \"value\", \"arrows\": true, \"ewidth\": 1, \"vlabel\": \"__repr__\", \"highlight_color\": [0.69, 0.0, 0.498], \"vcolor\": [0.522, 0.741, 0.0], \"vlabel_hover\": false, \"highlight\": {\"0\": [0.69, 0.0, 0.48], \"3\": [0.039, 0.55, 0.77], \"4\": [1.0, 0.33, 0.0], \"5\": [1.0, 0.33, 0.0], \"6\": [0.039, 0.55, 0.77]}, \"v_offset\": 0.03}, \"view_components\": [\"View\"], \"type\": \"SGraph\", \"descriptives_links\": {\"edges\": \"edges\", \"vertices\": \"vertices\"}, \"descriptives\": {\"edges\": 6, \"vertices\": 7}}, \"positions\": null, \"error_type\": 0, \"vertices\": [5, 0, 2, 6, 3, 1, 4], \"vertices_labels\": [\"0.3223\", \"grade=A\", \"total_rec_late_fee<14.83015\", \"-0.273469\", \"-0.111044\", \"grade=B\", \"0.097203\"], \"edges\": [[0, 2], [0, 1], [2, 5], [2, 6], [1, 3], [1, 4]], \"ipython\": true, \"error_msg\": \"\"}, e);\n",
       "                });\n",
       "            })();\n",
       "        "
      ]
     },
     "metadata": {},
     "output_type": "display_data"
    }
   ],
   "source": [
    "small_model.show(view=\"Tree\")"
   ]
  },
  {
   "cell_type": "markdown",
   "metadata": {},
   "source": [
    "# Making predictions\n",
    "\n",
    "Let's consider two positive and two negative examples **from the validation set** and see what the model predicts. We will do the following:\n",
    "* Predict whether or not a loan is safe.\n",
    "* Predict the probability that a loan is safe."
   ]
  },
  {
   "cell_type": "code",
   "execution_count": 22,
   "metadata": {
    "collapsed": false
   },
   "outputs": [
    {
     "data": {
      "text/html": [
       "<div style=\"max-height:1000px;max-width:1500px;overflow:auto;\"><table frame=\"box\" rules=\"cols\">\n",
       "    <tr>\n",
       "        <th style=\"padding-left: 1em; padding-right: 1em; text-align: center\">grade</th>\n",
       "        <th style=\"padding-left: 1em; padding-right: 1em; text-align: center\">sub_grade</th>\n",
       "        <th style=\"padding-left: 1em; padding-right: 1em; text-align: center\">short_emp</th>\n",
       "        <th style=\"padding-left: 1em; padding-right: 1em; text-align: center\">emp_length_num</th>\n",
       "        <th style=\"padding-left: 1em; padding-right: 1em; text-align: center\">home_ownership</th>\n",
       "        <th style=\"padding-left: 1em; padding-right: 1em; text-align: center\">dti</th>\n",
       "        <th style=\"padding-left: 1em; padding-right: 1em; text-align: center\">purpose</th>\n",
       "        <th style=\"padding-left: 1em; padding-right: 1em; text-align: center\">term</th>\n",
       "        <th style=\"padding-left: 1em; padding-right: 1em; text-align: center\">last_delinq_none</th>\n",
       "    </tr>\n",
       "    <tr>\n",
       "        <td style=\"padding-left: 1em; padding-right: 1em; text-align: center; vertical-align: top\">B</td>\n",
       "        <td style=\"padding-left: 1em; padding-right: 1em; text-align: center; vertical-align: top\">B3</td>\n",
       "        <td style=\"padding-left: 1em; padding-right: 1em; text-align: center; vertical-align: top\">0</td>\n",
       "        <td style=\"padding-left: 1em; padding-right: 1em; text-align: center; vertical-align: top\">11</td>\n",
       "        <td style=\"padding-left: 1em; padding-right: 1em; text-align: center; vertical-align: top\">OWN</td>\n",
       "        <td style=\"padding-left: 1em; padding-right: 1em; text-align: center; vertical-align: top\">11.18</td>\n",
       "        <td style=\"padding-left: 1em; padding-right: 1em; text-align: center; vertical-align: top\">credit_card</td>\n",
       "        <td style=\"padding-left: 1em; padding-right: 1em; text-align: center; vertical-align: top\"> 36 months</td>\n",
       "        <td style=\"padding-left: 1em; padding-right: 1em; text-align: center; vertical-align: top\">1</td>\n",
       "    </tr>\n",
       "    <tr>\n",
       "        <td style=\"padding-left: 1em; padding-right: 1em; text-align: center; vertical-align: top\">D</td>\n",
       "        <td style=\"padding-left: 1em; padding-right: 1em; text-align: center; vertical-align: top\">D1</td>\n",
       "        <td style=\"padding-left: 1em; padding-right: 1em; text-align: center; vertical-align: top\">0</td>\n",
       "        <td style=\"padding-left: 1em; padding-right: 1em; text-align: center; vertical-align: top\">10</td>\n",
       "        <td style=\"padding-left: 1em; padding-right: 1em; text-align: center; vertical-align: top\">RENT</td>\n",
       "        <td style=\"padding-left: 1em; padding-right: 1em; text-align: center; vertical-align: top\">16.85</td>\n",
       "        <td style=\"padding-left: 1em; padding-right: 1em; text-align: center; vertical-align: top\">debt_consolidation</td>\n",
       "        <td style=\"padding-left: 1em; padding-right: 1em; text-align: center; vertical-align: top\"> 36 months</td>\n",
       "        <td style=\"padding-left: 1em; padding-right: 1em; text-align: center; vertical-align: top\">1</td>\n",
       "    </tr>\n",
       "    <tr>\n",
       "        <td style=\"padding-left: 1em; padding-right: 1em; text-align: center; vertical-align: top\">D</td>\n",
       "        <td style=\"padding-left: 1em; padding-right: 1em; text-align: center; vertical-align: top\">D2</td>\n",
       "        <td style=\"padding-left: 1em; padding-right: 1em; text-align: center; vertical-align: top\">0</td>\n",
       "        <td style=\"padding-left: 1em; padding-right: 1em; text-align: center; vertical-align: top\">3</td>\n",
       "        <td style=\"padding-left: 1em; padding-right: 1em; text-align: center; vertical-align: top\">RENT</td>\n",
       "        <td style=\"padding-left: 1em; padding-right: 1em; text-align: center; vertical-align: top\">13.97</td>\n",
       "        <td style=\"padding-left: 1em; padding-right: 1em; text-align: center; vertical-align: top\">other</td>\n",
       "        <td style=\"padding-left: 1em; padding-right: 1em; text-align: center; vertical-align: top\"> 60 months</td>\n",
       "        <td style=\"padding-left: 1em; padding-right: 1em; text-align: center; vertical-align: top\">0</td>\n",
       "    </tr>\n",
       "    <tr>\n",
       "        <td style=\"padding-left: 1em; padding-right: 1em; text-align: center; vertical-align: top\">A</td>\n",
       "        <td style=\"padding-left: 1em; padding-right: 1em; text-align: center; vertical-align: top\">A5</td>\n",
       "        <td style=\"padding-left: 1em; padding-right: 1em; text-align: center; vertical-align: top\">0</td>\n",
       "        <td style=\"padding-left: 1em; padding-right: 1em; text-align: center; vertical-align: top\">11</td>\n",
       "        <td style=\"padding-left: 1em; padding-right: 1em; text-align: center; vertical-align: top\">MORTGAGE</td>\n",
       "        <td style=\"padding-left: 1em; padding-right: 1em; text-align: center; vertical-align: top\">16.33</td>\n",
       "        <td style=\"padding-left: 1em; padding-right: 1em; text-align: center; vertical-align: top\">debt_consolidation</td>\n",
       "        <td style=\"padding-left: 1em; padding-right: 1em; text-align: center; vertical-align: top\"> 36 months</td>\n",
       "        <td style=\"padding-left: 1em; padding-right: 1em; text-align: center; vertical-align: top\">1</td>\n",
       "    </tr>\n",
       "</table>\n",
       "<table frame=\"box\" rules=\"cols\">\n",
       "    <tr>\n",
       "        <th style=\"padding-left: 1em; padding-right: 1em; text-align: center\">last_major_derog_none</th>\n",
       "        <th style=\"padding-left: 1em; padding-right: 1em; text-align: center\">revol_util</th>\n",
       "        <th style=\"padding-left: 1em; padding-right: 1em; text-align: center\">total_rec_late_fee</th>\n",
       "        <th style=\"padding-left: 1em; padding-right: 1em; text-align: center\">safe_loans</th>\n",
       "    </tr>\n",
       "    <tr>\n",
       "        <td style=\"padding-left: 1em; padding-right: 1em; text-align: center; vertical-align: top\">1</td>\n",
       "        <td style=\"padding-left: 1em; padding-right: 1em; text-align: center; vertical-align: top\">82.4</td>\n",
       "        <td style=\"padding-left: 1em; padding-right: 1em; text-align: center; vertical-align: top\">0.0</td>\n",
       "        <td style=\"padding-left: 1em; padding-right: 1em; text-align: center; vertical-align: top\">1</td>\n",
       "    </tr>\n",
       "    <tr>\n",
       "        <td style=\"padding-left: 1em; padding-right: 1em; text-align: center; vertical-align: top\">1</td>\n",
       "        <td style=\"padding-left: 1em; padding-right: 1em; text-align: center; vertical-align: top\">96.4</td>\n",
       "        <td style=\"padding-left: 1em; padding-right: 1em; text-align: center; vertical-align: top\">0.0</td>\n",
       "        <td style=\"padding-left: 1em; padding-right: 1em; text-align: center; vertical-align: top\">1</td>\n",
       "    </tr>\n",
       "    <tr>\n",
       "        <td style=\"padding-left: 1em; padding-right: 1em; text-align: center; vertical-align: top\">1</td>\n",
       "        <td style=\"padding-left: 1em; padding-right: 1em; text-align: center; vertical-align: top\">59.5</td>\n",
       "        <td style=\"padding-left: 1em; padding-right: 1em; text-align: center; vertical-align: top\">0.0</td>\n",
       "        <td style=\"padding-left: 1em; padding-right: 1em; text-align: center; vertical-align: top\">-1</td>\n",
       "    </tr>\n",
       "    <tr>\n",
       "        <td style=\"padding-left: 1em; padding-right: 1em; text-align: center; vertical-align: top\">1</td>\n",
       "        <td style=\"padding-left: 1em; padding-right: 1em; text-align: center; vertical-align: top\">62.1</td>\n",
       "        <td style=\"padding-left: 1em; padding-right: 1em; text-align: center; vertical-align: top\">0.0</td>\n",
       "        <td style=\"padding-left: 1em; padding-right: 1em; text-align: center; vertical-align: top\">-1</td>\n",
       "    </tr>\n",
       "</table>\n",
       "[4 rows x 13 columns]<br/>\n",
       "</div>"
      ],
      "text/plain": [
       "Columns:\n",
       "\tgrade\tstr\n",
       "\tsub_grade\tstr\n",
       "\tshort_emp\tint\n",
       "\temp_length_num\tint\n",
       "\thome_ownership\tstr\n",
       "\tdti\tfloat\n",
       "\tpurpose\tstr\n",
       "\tterm\tstr\n",
       "\tlast_delinq_none\tint\n",
       "\tlast_major_derog_none\tint\n",
       "\trevol_util\tfloat\n",
       "\ttotal_rec_late_fee\tfloat\n",
       "\tsafe_loans\tint\n",
       "\n",
       "Rows: 4\n",
       "\n",
       "Data:\n",
       "+-------+-----------+-----------+----------------+----------------+-------+\n",
       "| grade | sub_grade | short_emp | emp_length_num | home_ownership |  dti  |\n",
       "+-------+-----------+-----------+----------------+----------------+-------+\n",
       "|   B   |     B3    |     0     |       11       |      OWN       | 11.18 |\n",
       "|   D   |     D1    |     0     |       10       |      RENT      | 16.85 |\n",
       "|   D   |     D2    |     0     |       3        |      RENT      | 13.97 |\n",
       "|   A   |     A5    |     0     |       11       |    MORTGAGE    | 16.33 |\n",
       "+-------+-----------+-----------+----------------+----------------+-------+\n",
       "+--------------------+------------+------------------+-----------------------+\n",
       "|      purpose       |    term    | last_delinq_none | last_major_derog_none |\n",
       "+--------------------+------------+------------------+-----------------------+\n",
       "|    credit_card     |  36 months |        1         |           1           |\n",
       "| debt_consolidation |  36 months |        1         |           1           |\n",
       "|       other        |  60 months |        0         |           1           |\n",
       "| debt_consolidation |  36 months |        1         |           1           |\n",
       "+--------------------+------------+------------------+-----------------------+\n",
       "+------------+--------------------+------------+\n",
       "| revol_util | total_rec_late_fee | safe_loans |\n",
       "+------------+--------------------+------------+\n",
       "|    82.4    |        0.0         |     1      |\n",
       "|    96.4    |        0.0         |     1      |\n",
       "|    59.5    |        0.0         |     -1     |\n",
       "|    62.1    |        0.0         |     -1     |\n",
       "+------------+--------------------+------------+\n",
       "[4 rows x 13 columns]"
      ]
     },
     "execution_count": 22,
     "metadata": {},
     "output_type": "execute_result"
    }
   ],
   "source": [
    "validation_safe_loans = validation_data[validation_data[target] == 1]\n",
    "validation_risky_loans = validation_data[validation_data[target] == -1]\n",
    "\n",
    "sample_validation_data_risky = validation_risky_loans[0:2]\n",
    "sample_validation_data_safe = validation_safe_loans[0:2]\n",
    "\n",
    "sample_validation_data = sample_validation_data_safe.append(sample_validation_data_risky)\n",
    "sample_validation_data"
   ]
  },
  {
   "cell_type": "markdown",
   "metadata": {},
   "source": [
    "## Explore label predictions"
   ]
  },
  {
   "cell_type": "markdown",
   "metadata": {},
   "source": [
    "Now, we will use our model  to predict whether or not a loan is likely to default. For each row in the **sample_validation_data**, use the **decision_tree_model** to predict whether or not the loan is classified as a **safe loan**. \n",
    "\n",
    "**Hint:** Be sure to use the `.predict()` method."
   ]
  },
  {
   "cell_type": "code",
   "execution_count": 26,
   "metadata": {
    "collapsed": false
   },
   "outputs": [
    {
     "data": {
      "text/plain": [
       "dtype: int\n",
       "Rows: 4\n",
       "[1, -1, -1, 1]"
      ]
     },
     "execution_count": 26,
     "metadata": {},
     "output_type": "execute_result"
    }
   ],
   "source": [
    "predicted = decision_tree_model.predict(sample_validation_data)\n",
    "predicted"
   ]
  },
  {
   "cell_type": "markdown",
   "metadata": {},
   "source": [
    "**Quiz Question:** What percentage of the predictions on `sample_validation_data` did `decision_tree_model` get correct? 50"
   ]
  },
  {
   "cell_type": "markdown",
   "metadata": {},
   "source": [
    "## Explore probability predictions\n",
    "\n",
    "For each row in the **sample_validation_data**, what is the probability (according **decision_tree_model**) of a loan being classified as **safe**? \n",
    "\n",
    "\n",
    "**Hint:** Set `output_type='probability'` to make **probability** predictions using **decision_tree_model** on `sample_validation_data`:"
   ]
  },
  {
   "cell_type": "code",
   "execution_count": 27,
   "metadata": {
    "collapsed": false
   },
   "outputs": [
    {
     "data": {
      "text/plain": [
       "dtype: float\n",
       "Rows: 4\n",
       "[0.5473502278327942, 0.4891221821308136, 0.4559234082698822, 0.5864479541778564]"
      ]
     },
     "execution_count": 27,
     "metadata": {},
     "output_type": "execute_result"
    }
   ],
   "source": [
    "predicted = decision_tree_model.predict(sample_validation_data, output_type='probability')\n",
    "predicted"
   ]
  },
  {
   "cell_type": "markdown",
   "metadata": {},
   "source": [
    "**Quiz Question:** Which loan has the highest probability of being classified as a **safe loan**? 4th\n",
    "\n",
    "**Checkpoint:** Can you verify that for all the predictions with `probability >= 0.5`, the model predicted the label **+1**? yes"
   ]
  },
  {
   "cell_type": "markdown",
   "metadata": {},
   "source": [
    "### Tricky predictions!\n",
    "\n",
    "Now, we will explore something pretty interesting. For each row in the **sample_validation_data**, what is the probability (according to **small_model**) of a loan being classified as **safe**?\n",
    "\n",
    "**Hint:** Set `output_type='probability'` to make **probability** predictions using **small_model** on `sample_validation_data`:"
   ]
  },
  {
   "cell_type": "code",
   "execution_count": 28,
   "metadata": {
    "collapsed": false
   },
   "outputs": [
    {
     "data": {
      "text/plain": [
       "dtype: float\n",
       "Rows: 4\n",
       "[0.5242817997932434, 0.47226759791374207, 0.47226759791374207, 0.5798847675323486]"
      ]
     },
     "execution_count": 28,
     "metadata": {},
     "output_type": "execute_result"
    }
   ],
   "source": [
    "small_predicted = small_model.predict(sample_validation_data, output_type='probability')\n",
    "small_predicted"
   ]
  },
  {
   "cell_type": "markdown",
   "metadata": {},
   "source": [
    "**Quiz Question:** Notice that the probability preditions are the **exact same** for the 2nd and 3rd loans. Why would this happen? decision is based solely on grade for these 2 loans and they have the same grade D"
   ]
  },
  {
   "cell_type": "markdown",
   "metadata": {},
   "source": [
    "## Visualize the prediction on a tree\n",
    "\n",
    "\n",
    "Note that you should be able to look at the small tree, traverse it yourself, and visualize the prediction being made. Consider the following point in the **sample_validation_data**"
   ]
  },
  {
   "cell_type": "code",
   "execution_count": 29,
   "metadata": {
    "collapsed": false
   },
   "outputs": [
    {
     "data": {
      "text/plain": [
       "{'dti': 16.85,\n",
       " 'emp_length_num': 10,\n",
       " 'grade': 'D',\n",
       " 'home_ownership': 'RENT',\n",
       " 'last_delinq_none': 1,\n",
       " 'last_major_derog_none': 1,\n",
       " 'purpose': 'debt_consolidation',\n",
       " 'revol_util': 96.4,\n",
       " 'safe_loans': 1,\n",
       " 'short_emp': 0,\n",
       " 'sub_grade': 'D1',\n",
       " 'term': ' 36 months',\n",
       " 'total_rec_late_fee': 0.0}"
      ]
     },
     "execution_count": 29,
     "metadata": {},
     "output_type": "execute_result"
    }
   ],
   "source": [
    "sample_validation_data[1]"
   ]
  },
  {
   "cell_type": "markdown",
   "metadata": {},
   "source": [
    "Let's visualize the small tree here to do the traversing for this data point."
   ]
  },
  {
   "cell_type": "code",
   "execution_count": 30,
   "metadata": {
    "collapsed": false
   },
   "outputs": [
    {
     "data": {
      "application/javascript": [
       "$(\"head\").append($(\"<link/>\").attr({\n",
       "  rel:  \"stylesheet\",\n",
       "  type: \"text/css\",\n",
       "  href: \"//cdnjs.cloudflare.com/ajax/libs/font-awesome/4.1.0/css/font-awesome.min.css\"\n",
       "}));\n",
       "$(\"head\").append($(\"<link/>\").attr({\n",
       "  rel:  \"stylesheet\",\n",
       "  type: \"text/css\",\n",
       "  href: \"https://static.turi.com/products/graphlab-create/2.1/canvas/css/canvas.css\"\n",
       "}));\n",
       "\n",
       "            (function(){\n",
       "\n",
       "                var e = null;\n",
       "                if (typeof element == 'undefined') {\n",
       "                    var scripts = document.getElementsByTagName('script');\n",
       "                    var thisScriptTag = scripts[scripts.length-1];\n",
       "                    var parentDiv = thisScriptTag.parentNode;\n",
       "                    e = document.createElement('div');\n",
       "                    parentDiv.appendChild(e);\n",
       "                } else {\n",
       "                    e = element[0];\n",
       "                }\n",
       "\n",
       "                if (typeof requirejs !== 'undefined') {\n",
       "                    // disable load timeout; ipython_app.js is large and can take a while to load.\n",
       "                    requirejs.config({waitSeconds: 0});\n",
       "                }\n",
       "\n",
       "                require(['https://static.turi.com/products/graphlab-create/2.1/canvas/js/ipython_app.js'], function(IPythonApp){\n",
       "                    var app = new IPythonApp();\n",
       "                    app.attachView('sgraph','View', {\"edges_labels\": [\"yes\", \"no\", \"yes\", \"no\", \"no\", \"yes\"], \"selected_variable\": {\"name\": [\"<SGraph>\"], \"view_file\": \"sgraph\", \"view_component\": \"View\", \"view_params\": {\"elabel_hover\": false, \"vertex_positions\": null, \"h_offset\": 0.0, \"node_size\": 300, \"ecolor\": [0.37, 0.33, 0.33], \"elabel\": \"value\", \"arrows\": true, \"ewidth\": 1, \"vlabel\": \"__repr__\", \"highlight_color\": [0.69, 0.0, 0.498], \"vcolor\": [0.522, 0.741, 0.0], \"vlabel_hover\": false, \"highlight\": {\"0\": [0.69, 0.0, 0.48], \"3\": [0.039, 0.55, 0.77], \"4\": [1.0, 0.33, 0.0], \"5\": [1.0, 0.33, 0.0], \"6\": [0.039, 0.55, 0.77]}, \"v_offset\": 0.03}, \"view_components\": [\"View\"], \"type\": \"SGraph\", \"descriptives_links\": {\"edges\": \"edges\", \"vertices\": \"vertices\"}, \"descriptives\": {\"edges\": 6, \"vertices\": 7}}, \"positions\": null, \"error_type\": 0, \"vertices\": [5, 0, 2, 6, 3, 1, 4], \"vertices_labels\": [\"0.3223\", \"grade=A\", \"total_rec_late_fee<14.83015\", \"-0.273469\", \"-0.111044\", \"grade=B\", \"0.097203\"], \"edges\": [[0, 2], [0, 1], [2, 5], [2, 6], [1, 3], [1, 4]], \"ipython\": true, \"error_msg\": \"\"}, e);\n",
       "                });\n",
       "            })();\n",
       "        "
      ]
     },
     "metadata": {},
     "output_type": "display_data"
    }
   ],
   "source": [
    "small_model.show(view=\"Tree\")"
   ]
  },
  {
   "cell_type": "markdown",
   "metadata": {},
   "source": [
    "**Note:** In the tree visualization above, the values at the leaf nodes are not class predictions but scores (a slightly advanced concept that is out of the scope of this course). You can read more about this [here](https://homes.cs.washington.edu/~tqchen/pdf/BoostedTree.pdf).  If the score is $\\geq$ 0, the class +1 is predicted.  Otherwise, if the score < 0, we predict class -1.\n",
    "\n",
    "\n",
    "**Quiz Question:** Based on the visualized tree, what prediction would you make for this data point? -1\n",
    "\n",
    "Now, let's verify your prediction by examining the prediction made using GraphLab Create.  Use the `.predict` function on `small_model`."
   ]
  },
  {
   "cell_type": "code",
   "execution_count": 31,
   "metadata": {
    "collapsed": false
   },
   "outputs": [
    {
     "data": {
      "text/plain": [
       "dtype: int\n",
       "Rows: 1\n",
       "[-1]"
      ]
     },
     "execution_count": 31,
     "metadata": {},
     "output_type": "execute_result"
    }
   ],
   "source": [
    "small_model.predict(sample_validation_data[1])"
   ]
  },
  {
   "cell_type": "markdown",
   "metadata": {},
   "source": [
    "# Evaluating accuracy of the decision tree model"
   ]
  },
  {
   "cell_type": "markdown",
   "metadata": {},
   "source": [
    "Recall that the accuracy is defined as follows:\n",
    "$$\n",
    "\\mbox{accuracy} = \\frac{\\mbox{# correctly classified examples}}{\\mbox{# total examples}}\n",
    "$$\n",
    "\n",
    "Let us start by evaluating the accuracy of the `small_model` and `decision_tree_model` on the training data"
   ]
  },
  {
   "cell_type": "code",
   "execution_count": 32,
   "metadata": {
    "collapsed": false
   },
   "outputs": [
    {
     "name": "stdout",
     "output_type": "stream",
     "text": [
      "0.613502041694\n",
      "0.640581345369\n"
     ]
    }
   ],
   "source": [
    "print small_model.evaluate(train_data)['accuracy']\n",
    "print decision_tree_model.evaluate(train_data)['accuracy']"
   ]
  },
  {
   "cell_type": "markdown",
   "metadata": {},
   "source": [
    "**Checkpoint:** You should see that the **small_model** performs worse than the **decision_tree_model** on the training data.\n",
    "\n",
    "\n",
    "Now, let us evaluate the accuracy of the **small_model** and **decision_tree_model** on the entire **validation_data**, not just the subsample considered above."
   ]
  },
  {
   "cell_type": "code",
   "execution_count": 33,
   "metadata": {
    "collapsed": false
   },
   "outputs": [
    {
     "name": "stdout",
     "output_type": "stream",
     "text": [
      "0.619345109866\n",
      "0.636794485136\n"
     ]
    }
   ],
   "source": [
    "print small_model.evaluate(validation_data)['accuracy']\n",
    "print decision_tree_model.evaluate(validation_data)['accuracy']"
   ]
  },
  {
   "cell_type": "markdown",
   "metadata": {
    "collapsed": false
   },
   "source": [
    "**Quiz Question:** What is the accuracy of `decision_tree_model` on the validation set, rounded to the nearest .01? 0.64"
   ]
  },
  {
   "cell_type": "markdown",
   "metadata": {},
   "source": [
    "## Evaluating accuracy of a complex decision tree model\n",
    "\n",
    "Here, we will train a large decision tree with `max_depth=10`. This will allow the learned tree to become very deep, and result in a very complex model. Recall that in lecture, we prefer simpler models with similar predictive power. This will be an example of a more complicated model which has similar predictive power, i.e. something we don't want."
   ]
  },
  {
   "cell_type": "code",
   "execution_count": 34,
   "metadata": {
    "collapsed": false
   },
   "outputs": [
    {
     "data": {
      "text/html": [
       "<pre>Decision tree classifier:</pre>"
      ],
      "text/plain": [
       "Decision tree classifier:"
      ]
     },
     "metadata": {},
     "output_type": "display_data"
    },
    {
     "data": {
      "text/html": [
       "<pre>--------------------------------------------------------</pre>"
      ],
      "text/plain": [
       "--------------------------------------------------------"
      ]
     },
     "metadata": {},
     "output_type": "display_data"
    },
    {
     "data": {
      "text/html": [
       "<pre>Number of examples          : 37224</pre>"
      ],
      "text/plain": [
       "Number of examples          : 37224"
      ]
     },
     "metadata": {},
     "output_type": "display_data"
    },
    {
     "data": {
      "text/html": [
       "<pre>Number of classes           : 2</pre>"
      ],
      "text/plain": [
       "Number of classes           : 2"
      ]
     },
     "metadata": {},
     "output_type": "display_data"
    },
    {
     "data": {
      "text/html": [
       "<pre>Number of feature columns   : 12</pre>"
      ],
      "text/plain": [
       "Number of feature columns   : 12"
      ]
     },
     "metadata": {},
     "output_type": "display_data"
    },
    {
     "data": {
      "text/html": [
       "<pre>Number of unpacked features : 12</pre>"
      ],
      "text/plain": [
       "Number of unpacked features : 12"
      ]
     },
     "metadata": {},
     "output_type": "display_data"
    },
    {
     "data": {
      "text/html": [
       "<pre>+-----------+--------------+-------------------+-------------------+</pre>"
      ],
      "text/plain": [
       "+-----------+--------------+-------------------+-------------------+"
      ]
     },
     "metadata": {},
     "output_type": "display_data"
    },
    {
     "data": {
      "text/html": [
       "<pre>| Iteration | Elapsed Time | Training-accuracy | Training-log_loss |</pre>"
      ],
      "text/plain": [
       "| Iteration | Elapsed Time | Training-accuracy | Training-log_loss |"
      ]
     },
     "metadata": {},
     "output_type": "display_data"
    },
    {
     "data": {
      "text/html": [
       "<pre>+-----------+--------------+-------------------+-------------------+</pre>"
      ],
      "text/plain": [
       "+-----------+--------------+-------------------+-------------------+"
      ]
     },
     "metadata": {},
     "output_type": "display_data"
    },
    {
     "data": {
      "text/html": [
       "<pre>| 1         | 0.058790     | 0.665538          | 0.652730          |</pre>"
      ],
      "text/plain": [
       "| 1         | 0.058790     | 0.665538          | 0.652730          |"
      ]
     },
     "metadata": {},
     "output_type": "display_data"
    },
    {
     "data": {
      "text/html": [
       "<pre>+-----------+--------------+-------------------+-------------------+</pre>"
      ],
      "text/plain": [
       "+-----------+--------------+-------------------+-------------------+"
      ]
     },
     "metadata": {},
     "output_type": "display_data"
    }
   ],
   "source": [
    "big_model = graphlab.decision_tree_classifier.create(train_data, validation_set=None,\n",
    "                   target = target, features = features, max_depth = 10)"
   ]
  },
  {
   "cell_type": "markdown",
   "metadata": {},
   "source": [
    "Now, let us evaluate **big_model** on the training set and validation set."
   ]
  },
  {
   "cell_type": "code",
   "execution_count": 35,
   "metadata": {
    "collapsed": false
   },
   "outputs": [
    {
     "name": "stdout",
     "output_type": "stream",
     "text": [
      "0.665538362347\n",
      "0.627423524343\n"
     ]
    }
   ],
   "source": [
    "print big_model.evaluate(train_data)['accuracy']\n",
    "print big_model.evaluate(validation_data)['accuracy']"
   ]
  },
  {
   "cell_type": "markdown",
   "metadata": {},
   "source": [
    "**Checkpoint:** We should see that **big_model** has even better performance on the training set than **decision_tree_model** did on the training set."
   ]
  },
  {
   "cell_type": "markdown",
   "metadata": {},
   "source": [
    "**Quiz Question:** How does the performance of **big_model** on the validation set compare to **decision_tree_model** on the validation set? Is this a sign of overfitting? yes because it performs worse on validation data and better on train data"
   ]
  },
  {
   "cell_type": "markdown",
   "metadata": {},
   "source": [
    "### Quantifying the cost of mistakes\n",
    "\n",
    "Every mistake the model makes costs money. In this section, we will try and quantify the cost of each mistake made by the model.\n",
    "\n",
    "Assume the following:\n",
    "\n",
    "* **False negatives**: Loans that were actually safe but were predicted to be risky. This results in an oppurtunity cost of losing a loan that would have otherwise been accepted. \n",
    "* **False positives**: Loans that were actually risky but were predicted to be safe. These are much more expensive because it results in a risky loan being given. \n",
    "* **Correct predictions**: All correct predictions don't typically incur any cost.\n",
    "\n",
    "\n",
    "Let's write code that can compute the cost of mistakes made by the model. Complete the following 4 steps:\n",
    "1. First, let us compute the predictions made by the model.\n",
    "1. Second, compute the number of false positives.\n",
    "2. Third, compute the number of false negatives.\n",
    "3. Finally, compute the cost of mistakes made by the model by adding up the costs of true positives and false positives.\n",
    "\n",
    "First, let us make predictions on `validation_data` using the `decision_tree_model`:"
   ]
  },
  {
   "cell_type": "code",
   "execution_count": 36,
   "metadata": {
    "collapsed": false
   },
   "outputs": [],
   "source": [
    "predictions = decision_tree_model.predict(validation_data)"
   ]
  },
  {
   "cell_type": "markdown",
   "metadata": {},
   "source": [
    "**False positives** are predictions where the model predicts +1 but the true label is -1. Complete the following code block for the number of false positives:"
   ]
  },
  {
   "cell_type": "code",
   "execution_count": 73,
   "metadata": {
    "collapsed": false
   },
   "outputs": [],
   "source": [
    "false_positives = (validation_data[target] == -1) & (predictions == +1)\n",
    "false_positive = false_positives.sum()"
   ]
  },
  {
   "cell_type": "markdown",
   "metadata": {},
   "source": [
    "**False negatives** are predictions where the model predicts -1 but the true label is +1. Complete the following code block for the number of false negatives:"
   ]
  },
  {
   "cell_type": "code",
   "execution_count": 74,
   "metadata": {
    "collapsed": false
   },
   "outputs": [],
   "source": [
    "false_negatives = (validation_data[target] == 1) & (predictions == -1)\n",
    "false_negative = false_negatives.sum()"
   ]
  },
  {
   "cell_type": "markdown",
   "metadata": {},
   "source": [
    "**Quiz Question:** Let us assume that each mistake costs money:\n",
    "* Assume a cost of \\$10,000 per false negative.\n",
    "* Assume a cost of \\$20,000 per false positive.\n",
    "\n",
    "What is the total cost of mistakes made by `decision_tree_model` on `validation_data`?"
   ]
  },
  {
   "cell_type": "code",
   "execution_count": 75,
   "metadata": {
    "collapsed": false
   },
   "outputs": [
    {
     "data": {
      "text/plain": [
       "(1656, 1716, 50280000)"
      ]
     },
     "execution_count": 75,
     "metadata": {},
     "output_type": "execute_result"
    }
   ],
   "source": [
    "false_positive, false_negative, false_positive * 20000 + false_negative * 10000"
   ]
  },
  {
   "cell_type": "code",
   "execution_count": null,
   "metadata": {
    "collapsed": true
   },
   "outputs": [],
   "source": []
  }
 ],
 "metadata": {
  "kernelspec": {
   "display_name": "Python [gl-env]",
   "language": "python",
   "name": "Python [gl-env]"
  },
  "language_info": {
   "codemirror_mode": {
    "name": "ipython",
    "version": 2
   },
   "file_extension": ".py",
   "mimetype": "text/x-python",
   "name": "python",
   "nbconvert_exporter": "python",
   "pygments_lexer": "ipython2",
   "version": "2.7.12"
  }
 },
 "nbformat": 4,
 "nbformat_minor": 0
}
